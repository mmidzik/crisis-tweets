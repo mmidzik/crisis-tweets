{
 "cells": [
  {
   "cell_type": "markdown",
   "metadata": {},
   "source": [
    "# Initial Imports"
   ]
  },
  {
   "cell_type": "code",
   "execution_count": null,
   "metadata": {},
   "outputs": [],
   "source": [
    "import pickle\n",
    "import pandas as pd\n",
    "import numpy as np\n",
    "import nltk\n",
    "from textblob import TextBlob"
   ]
  },
  {
   "cell_type": "markdown",
   "metadata": {},
   "source": [
    "# Read in data from mongo & make metadata db"
   ]
  },
  {
   "cell_type": "code",
   "execution_count": 12,
   "metadata": {},
   "outputs": [],
   "source": [
    "import json\n",
    "from pymongo import MongoClient\n",
    "\n",
    "client = MongoClient()\n",
    "db = client.twitter\n",
    "tweets_collection = db.tweets\n",
    "tweets_meta = db.meta"
   ]
  },
  {
   "cell_type": "code",
   "execution_count": 13,
   "metadata": {},
   "outputs": [],
   "source": [
    "def get_tweet_metadata(tweet):\n",
    "    meta_dict = {}\n",
    "    meta_dict['storm'] = 'Harvey'\n",
    "    try: meta_dict['id']  = tweet['id']\n",
    "    except: pass\n",
    "    try: meta_dict['user_id']  = tweet['entities']['user_mentions'][0]['id']\n",
    "    except: pass\n",
    "    try: meta_dict['user_name']  = tweet['entities']['user_mentions'][0]['name']\n",
    "    except: pass\n",
    "    try: meta_dict['datetime'] = tweet['created_at']\n",
    "    except: pass\n",
    "    try: meta_dict['media'] = tweet['entities']['media'][0]['media_url']\n",
    "    except: pass\n",
    "    try: meta_dict['media_type'] = tweet['extended_entities']['media'][0]['type']\n",
    "    except: pass\n",
    "    try: meta_dict['coords'] = tweet['geo']['coordinates']\n",
    "    except: pass\n",
    "    try: meta_dict['text'] = tweet['text']\n",
    "    except: pass\n",
    "    try: \n",
    "        hashtags_text = tweet['entities']['hashtags']\n",
    "        hashtags = []\n",
    "        for i in hashtags_text:\n",
    "            hashtags.append(i['text'])\n",
    "        meta_dict['hashtags'] = hashtags\n",
    "    except: pass\n",
    "    try: meta_dict['followers'] = tweet['extended_entities']['media'][0]['additional_media_info']['source_user']['followers_count']\n",
    "    except: pass\n",
    "    try: meta_dict['following'] = tweet['extended_entities']['media'][0]['additional_media_info']['source_user']['friends_count']\n",
    "    except: pass\n",
    "    try: meta_dict['user_location'] = tweet['extended_entities']['media'][0]['additional_media_info']['source_user']['location']\n",
    "    except: pass\n",
    "    try: meta_dict['retweets'] = tweet['retweet_count']\n",
    "    except: pass\n",
    "    return meta_dict\n"
   ]
  },
  {
   "cell_type": "code",
   "execution_count": 15,
   "metadata": {},
   "outputs": [],
   "source": [
    "for tweet in tweets_collection.find().limit( 5 ):\n",
    "    meta_dict = get_tweet_metadata(tweet)\n",
    "    tweets_meta.insert_one(meta_dict)"
   ]
  },
  {
   "cell_type": "code",
   "execution_count": 16,
   "metadata": {},
   "outputs": [
    {
     "name": "stdout",
     "output_type": "stream",
     "text": [
      "{'_id': ObjectId('5b0a659fb711190e6e5e5854'), 'storm': 'Harvey', 'id': 901646057444175873, 'user_id': 2852733673, 'user_name': 'leelee', 'datetime': 'Sun Aug 27 03:22:26 +0000 2017', 'text': \"@femaleeha Yeah my tornado/flood warnings been going off all day like every hour and there's been a bunch of vids o… https://t.co/cYEYp6fFbX\", 'hashtags': [], 'retweets': 0}\n",
      "{'_id': ObjectId('5b0a659fb711190e6e5e5855'), 'storm': 'Harvey', 'id': 901646092617613312, 'datetime': 'Sun Aug 27 03:22:34 +0000 2017', 'text': 'Hurricane Harvey in Vegas', 'hashtags': [], 'retweets': 0}\n",
      "{'_id': ObjectId('5b0a659fb711190e6e5e5856'), 'storm': 'Harvey', 'id': 901646060912877568, 'user_id': 715273378035286016, 'user_name': 'Alexandria Williams', 'datetime': 'Sun Aug 27 03:22:27 +0000 2017', 'text': \"RT @AlexandriaKHOU: This is Allen Parkway in front of our studios. Everyone please don't drive. #KHOU11 #Houston #HurricaneHarvey https://t…\", 'hashtags': ['KHOU11', 'Houston', 'HurricaneHarvey'], 'retweets': 2783}\n",
      "{'_id': ObjectId('5b0a659fb711190e6e5e5857'), 'storm': 'Harvey', 'id': 901646059704901632, 'user_id': 878648252, 'user_name': 'Alieu', 'datetime': 'Sun Aug 27 03:22:27 +0000 2017', 'text': 'RT @ahleeyou: God punish us with a huge storm everytime a republican take office https://t.co/MeQqrjqhUt', 'hashtags': [], 'retweets': 41403}\n",
      "{'_id': ObjectId('5b0a659fb711190e6e5e5858'), 'storm': 'Harvey', 'id': 901646040650194944, 'user_id': 715273378035286016, 'user_name': 'Alexandria Williams', 'datetime': 'Sun Aug 27 03:22:22 +0000 2017', 'text': \"RT @AlexandriaKHOU: This is Allen Parkway in front of our studios. Everyone please don't drive. #KHOU11 #Houston #HurricaneHarvey https://t…\", 'hashtags': ['KHOU11', 'Houston', 'HurricaneHarvey'], 'retweets': 2783}\n"
     ]
    }
   ],
   "source": [
    "for i in tweets_meta.find():\n",
    "    print(i)"
   ]
  },
  {
   "cell_type": "markdown",
   "metadata": {},
   "source": [
    "# Read into pandas & Clean metadata"
   ]
  },
  {
   "cell_type": "code",
   "execution_count": 18,
   "metadata": {},
   "outputs": [],
   "source": [
    "cursor = tweets_meta.find()\n",
    "df =  pd.DataFrame(list(cursor))"
   ]
  },
  {
   "cell_type": "code",
   "execution_count": 19,
   "metadata": {},
   "outputs": [
    {
     "data": {
      "text/html": [
       "<div>\n",
       "<style scoped>\n",
       "    .dataframe tbody tr th:only-of-type {\n",
       "        vertical-align: middle;\n",
       "    }\n",
       "\n",
       "    .dataframe tbody tr th {\n",
       "        vertical-align: top;\n",
       "    }\n",
       "\n",
       "    .dataframe thead th {\n",
       "        text-align: right;\n",
       "    }\n",
       "</style>\n",
       "<table border=\"1\" class=\"dataframe\">\n",
       "  <thead>\n",
       "    <tr style=\"text-align: right;\">\n",
       "      <th></th>\n",
       "      <th>_id</th>\n",
       "      <th>datetime</th>\n",
       "      <th>hashtags</th>\n",
       "      <th>id</th>\n",
       "      <th>retweets</th>\n",
       "      <th>storm</th>\n",
       "      <th>text</th>\n",
       "      <th>user_id</th>\n",
       "      <th>user_name</th>\n",
       "    </tr>\n",
       "  </thead>\n",
       "  <tbody>\n",
       "    <tr>\n",
       "      <th>0</th>\n",
       "      <td>5b0a659fb711190e6e5e5854</td>\n",
       "      <td>Sun Aug 27 03:22:26 +0000 2017</td>\n",
       "      <td>[]</td>\n",
       "      <td>901646057444175873</td>\n",
       "      <td>0</td>\n",
       "      <td>Harvey</td>\n",
       "      <td>@femaleeha Yeah my tornado/flood warnings been...</td>\n",
       "      <td>2.852734e+09</td>\n",
       "      <td>leelee</td>\n",
       "    </tr>\n",
       "    <tr>\n",
       "      <th>1</th>\n",
       "      <td>5b0a659fb711190e6e5e5855</td>\n",
       "      <td>Sun Aug 27 03:22:34 +0000 2017</td>\n",
       "      <td>[]</td>\n",
       "      <td>901646092617613312</td>\n",
       "      <td>0</td>\n",
       "      <td>Harvey</td>\n",
       "      <td>Hurricane Harvey in Vegas</td>\n",
       "      <td>NaN</td>\n",
       "      <td>NaN</td>\n",
       "    </tr>\n",
       "    <tr>\n",
       "      <th>2</th>\n",
       "      <td>5b0a659fb711190e6e5e5856</td>\n",
       "      <td>Sun Aug 27 03:22:27 +0000 2017</td>\n",
       "      <td>[KHOU11, Houston, HurricaneHarvey]</td>\n",
       "      <td>901646060912877568</td>\n",
       "      <td>2783</td>\n",
       "      <td>Harvey</td>\n",
       "      <td>RT @AlexandriaKHOU: This is Allen Parkway in f...</td>\n",
       "      <td>7.152734e+17</td>\n",
       "      <td>Alexandria Williams</td>\n",
       "    </tr>\n",
       "    <tr>\n",
       "      <th>3</th>\n",
       "      <td>5b0a659fb711190e6e5e5857</td>\n",
       "      <td>Sun Aug 27 03:22:27 +0000 2017</td>\n",
       "      <td>[]</td>\n",
       "      <td>901646059704901632</td>\n",
       "      <td>41403</td>\n",
       "      <td>Harvey</td>\n",
       "      <td>RT @ahleeyou: God punish us with a huge storm ...</td>\n",
       "      <td>8.786483e+08</td>\n",
       "      <td>Alieu</td>\n",
       "    </tr>\n",
       "    <tr>\n",
       "      <th>4</th>\n",
       "      <td>5b0a659fb711190e6e5e5858</td>\n",
       "      <td>Sun Aug 27 03:22:22 +0000 2017</td>\n",
       "      <td>[KHOU11, Houston, HurricaneHarvey]</td>\n",
       "      <td>901646040650194944</td>\n",
       "      <td>2783</td>\n",
       "      <td>Harvey</td>\n",
       "      <td>RT @AlexandriaKHOU: This is Allen Parkway in f...</td>\n",
       "      <td>7.152734e+17</td>\n",
       "      <td>Alexandria Williams</td>\n",
       "    </tr>\n",
       "  </tbody>\n",
       "</table>\n",
       "</div>"
      ],
      "text/plain": [
       "                        _id                        datetime  \\\n",
       "0  5b0a659fb711190e6e5e5854  Sun Aug 27 03:22:26 +0000 2017   \n",
       "1  5b0a659fb711190e6e5e5855  Sun Aug 27 03:22:34 +0000 2017   \n",
       "2  5b0a659fb711190e6e5e5856  Sun Aug 27 03:22:27 +0000 2017   \n",
       "3  5b0a659fb711190e6e5e5857  Sun Aug 27 03:22:27 +0000 2017   \n",
       "4  5b0a659fb711190e6e5e5858  Sun Aug 27 03:22:22 +0000 2017   \n",
       "\n",
       "                             hashtags                  id  retweets   storm  \\\n",
       "0                                  []  901646057444175873         0  Harvey   \n",
       "1                                  []  901646092617613312         0  Harvey   \n",
       "2  [KHOU11, Houston, HurricaneHarvey]  901646060912877568      2783  Harvey   \n",
       "3                                  []  901646059704901632     41403  Harvey   \n",
       "4  [KHOU11, Houston, HurricaneHarvey]  901646040650194944      2783  Harvey   \n",
       "\n",
       "                                                text       user_id  \\\n",
       "0  @femaleeha Yeah my tornado/flood warnings been...  2.852734e+09   \n",
       "1                          Hurricane Harvey in Vegas           NaN   \n",
       "2  RT @AlexandriaKHOU: This is Allen Parkway in f...  7.152734e+17   \n",
       "3  RT @ahleeyou: God punish us with a huge storm ...  8.786483e+08   \n",
       "4  RT @AlexandriaKHOU: This is Allen Parkway in f...  7.152734e+17   \n",
       "\n",
       "             user_name  \n",
       "0               leelee  \n",
       "1                  NaN  \n",
       "2  Alexandria Williams  \n",
       "3                Alieu  \n",
       "4  Alexandria Williams  "
      ]
     },
     "execution_count": 19,
     "metadata": {},
     "output_type": "execute_result"
    }
   ],
   "source": [
    "df"
   ]
  },
  {
   "cell_type": "code",
   "execution_count": 20,
   "metadata": {},
   "outputs": [],
   "source": [
    "import time\n",
    "from datetime import time\n",
    "from datetime import datetime\n",
    "import re"
   ]
  },
  {
   "cell_type": "code",
   "execution_count": 21,
   "metadata": {},
   "outputs": [],
   "source": [
    "timestamp = []\n",
    "date_out = []\n",
    "weekday = []\n",
    "\n",
    "dates = df['datetime']\n",
    "for i in dates:\n",
    "    date = re.sub('\\+0000 ', '', i)\n",
    "    datetime = datetime.strptime(date, \"%a %b %d %X %Y\") \n",
    "    timestamp.append(datetime)\n",
    "    date_out.append(datetime.date())\n",
    "    weekday.append(datetime.weekday())"
   ]
  },
  {
   "cell_type": "code",
   "execution_count": 22,
   "metadata": {},
   "outputs": [],
   "source": [
    "df['timestamp'] = timestamp\n",
    "df['date'] = date_out\n",
    "df['weekday'] = weekday\n"
   ]
  },
  {
   "cell_type": "code",
   "execution_count": 23,
   "metadata": {},
   "outputs": [
    {
     "data": {
      "text/html": [
       "<div>\n",
       "<style scoped>\n",
       "    .dataframe tbody tr th:only-of-type {\n",
       "        vertical-align: middle;\n",
       "    }\n",
       "\n",
       "    .dataframe tbody tr th {\n",
       "        vertical-align: top;\n",
       "    }\n",
       "\n",
       "    .dataframe thead th {\n",
       "        text-align: right;\n",
       "    }\n",
       "</style>\n",
       "<table border=\"1\" class=\"dataframe\">\n",
       "  <thead>\n",
       "    <tr style=\"text-align: right;\">\n",
       "      <th></th>\n",
       "      <th>_id</th>\n",
       "      <th>datetime</th>\n",
       "      <th>hashtags</th>\n",
       "      <th>id</th>\n",
       "      <th>retweets</th>\n",
       "      <th>storm</th>\n",
       "      <th>text</th>\n",
       "      <th>user_id</th>\n",
       "      <th>user_name</th>\n",
       "      <th>timestamp</th>\n",
       "      <th>date</th>\n",
       "      <th>weekday</th>\n",
       "    </tr>\n",
       "  </thead>\n",
       "  <tbody>\n",
       "    <tr>\n",
       "      <th>0</th>\n",
       "      <td>5b0a659fb711190e6e5e5854</td>\n",
       "      <td>Sun Aug 27 03:22:26 +0000 2017</td>\n",
       "      <td>[]</td>\n",
       "      <td>901646057444175873</td>\n",
       "      <td>0</td>\n",
       "      <td>Harvey</td>\n",
       "      <td>@femaleeha Yeah my tornado/flood warnings been...</td>\n",
       "      <td>2.852734e+09</td>\n",
       "      <td>leelee</td>\n",
       "      <td>2017-08-27 03:22:26</td>\n",
       "      <td>2017-08-27</td>\n",
       "      <td>6</td>\n",
       "    </tr>\n",
       "    <tr>\n",
       "      <th>1</th>\n",
       "      <td>5b0a659fb711190e6e5e5855</td>\n",
       "      <td>Sun Aug 27 03:22:34 +0000 2017</td>\n",
       "      <td>[]</td>\n",
       "      <td>901646092617613312</td>\n",
       "      <td>0</td>\n",
       "      <td>Harvey</td>\n",
       "      <td>Hurricane Harvey in Vegas</td>\n",
       "      <td>NaN</td>\n",
       "      <td>NaN</td>\n",
       "      <td>2017-08-27 03:22:34</td>\n",
       "      <td>2017-08-27</td>\n",
       "      <td>6</td>\n",
       "    </tr>\n",
       "    <tr>\n",
       "      <th>2</th>\n",
       "      <td>5b0a659fb711190e6e5e5856</td>\n",
       "      <td>Sun Aug 27 03:22:27 +0000 2017</td>\n",
       "      <td>[KHOU11, Houston, HurricaneHarvey]</td>\n",
       "      <td>901646060912877568</td>\n",
       "      <td>2783</td>\n",
       "      <td>Harvey</td>\n",
       "      <td>RT @AlexandriaKHOU: This is Allen Parkway in f...</td>\n",
       "      <td>7.152734e+17</td>\n",
       "      <td>Alexandria Williams</td>\n",
       "      <td>2017-08-27 03:22:27</td>\n",
       "      <td>2017-08-27</td>\n",
       "      <td>6</td>\n",
       "    </tr>\n",
       "    <tr>\n",
       "      <th>3</th>\n",
       "      <td>5b0a659fb711190e6e5e5857</td>\n",
       "      <td>Sun Aug 27 03:22:27 +0000 2017</td>\n",
       "      <td>[]</td>\n",
       "      <td>901646059704901632</td>\n",
       "      <td>41403</td>\n",
       "      <td>Harvey</td>\n",
       "      <td>RT @ahleeyou: God punish us with a huge storm ...</td>\n",
       "      <td>8.786483e+08</td>\n",
       "      <td>Alieu</td>\n",
       "      <td>2017-08-27 03:22:27</td>\n",
       "      <td>2017-08-27</td>\n",
       "      <td>6</td>\n",
       "    </tr>\n",
       "    <tr>\n",
       "      <th>4</th>\n",
       "      <td>5b0a659fb711190e6e5e5858</td>\n",
       "      <td>Sun Aug 27 03:22:22 +0000 2017</td>\n",
       "      <td>[KHOU11, Houston, HurricaneHarvey]</td>\n",
       "      <td>901646040650194944</td>\n",
       "      <td>2783</td>\n",
       "      <td>Harvey</td>\n",
       "      <td>RT @AlexandriaKHOU: This is Allen Parkway in f...</td>\n",
       "      <td>7.152734e+17</td>\n",
       "      <td>Alexandria Williams</td>\n",
       "      <td>2017-08-27 03:22:22</td>\n",
       "      <td>2017-08-27</td>\n",
       "      <td>6</td>\n",
       "    </tr>\n",
       "  </tbody>\n",
       "</table>\n",
       "</div>"
      ],
      "text/plain": [
       "                        _id                        datetime  \\\n",
       "0  5b0a659fb711190e6e5e5854  Sun Aug 27 03:22:26 +0000 2017   \n",
       "1  5b0a659fb711190e6e5e5855  Sun Aug 27 03:22:34 +0000 2017   \n",
       "2  5b0a659fb711190e6e5e5856  Sun Aug 27 03:22:27 +0000 2017   \n",
       "3  5b0a659fb711190e6e5e5857  Sun Aug 27 03:22:27 +0000 2017   \n",
       "4  5b0a659fb711190e6e5e5858  Sun Aug 27 03:22:22 +0000 2017   \n",
       "\n",
       "                             hashtags                  id  retweets   storm  \\\n",
       "0                                  []  901646057444175873         0  Harvey   \n",
       "1                                  []  901646092617613312         0  Harvey   \n",
       "2  [KHOU11, Houston, HurricaneHarvey]  901646060912877568      2783  Harvey   \n",
       "3                                  []  901646059704901632     41403  Harvey   \n",
       "4  [KHOU11, Houston, HurricaneHarvey]  901646040650194944      2783  Harvey   \n",
       "\n",
       "                                                text       user_id  \\\n",
       "0  @femaleeha Yeah my tornado/flood warnings been...  2.852734e+09   \n",
       "1                          Hurricane Harvey in Vegas           NaN   \n",
       "2  RT @AlexandriaKHOU: This is Allen Parkway in f...  7.152734e+17   \n",
       "3  RT @ahleeyou: God punish us with a huge storm ...  8.786483e+08   \n",
       "4  RT @AlexandriaKHOU: This is Allen Parkway in f...  7.152734e+17   \n",
       "\n",
       "             user_name           timestamp        date  weekday  \n",
       "0               leelee 2017-08-27 03:22:26  2017-08-27        6  \n",
       "1                  NaN 2017-08-27 03:22:34  2017-08-27        6  \n",
       "2  Alexandria Williams 2017-08-27 03:22:27  2017-08-27        6  \n",
       "3                Alieu 2017-08-27 03:22:27  2017-08-27        6  \n",
       "4  Alexandria Williams 2017-08-27 03:22:22  2017-08-27        6  "
      ]
     },
     "execution_count": 23,
     "metadata": {},
     "output_type": "execute_result"
    }
   ],
   "source": [
    "df.head()"
   ]
  },
  {
   "cell_type": "code",
   "execution_count": 24,
   "metadata": {},
   "outputs": [
    {
     "data": {
      "text/plain": [
       "'RT @ahleeyou: God punish us with a huge storm everytime a republican take office https://t.co/MeQqrjqhUt'"
      ]
     },
     "execution_count": 24,
     "metadata": {},
     "output_type": "execute_result"
    }
   ],
   "source": [
    "df.iloc[3,:]['text']"
   ]
  },
  {
   "cell_type": "markdown",
   "metadata": {},
   "source": [
    "## Text cleaning\n",
    "need to remove:\n",
    "    - stop words\n",
    "    - non-ascii characters (maybe bring back emojis later?)\n",
    "    - punctuation\n",
    "    - numbers\n",
    "    - URLs\n",
    "    - hashtags\n",
    "    "
   ]
  },
  {
   "cell_type": "code",
   "execution_count": 26,
   "metadata": {},
   "outputs": [],
   "source": [
    "documents = np.asarray(df.text)"
   ]
  },
  {
   "cell_type": "code",
   "execution_count": 27,
   "metadata": {},
   "outputs": [],
   "source": [
    "import string\n",
    "cleaned_docs = []\n",
    "for doc in documents:\n",
    "#     doc = re.sub('#\\S*', ' ', doc)\n",
    "    doc = re.sub('RT ', ' ', doc)\n",
    "    doc = re.sub('@\\S*', ' ', doc)\n",
    "    doc = re.sub('&amp ', ' ', doc)\n",
    "    doc = re.sub('https:\\S*', '', doc)\n",
    "    doc = re.sub('\\\\n', ' ', doc)\n",
    "    doc = re.sub('[0-9]', '', doc)\n",
    "    exclude = set('!\"$%&\\'()*+,-./:;<=>?@[\\\\]^_`{|}~'+'…')\n",
    "    doc = ''.join(ch for ch in doc if ch not in exclude)\n",
    "    cleaned_docs.append(doc)"
   ]
  },
  {
   "cell_type": "code",
   "execution_count": 28,
   "metadata": {},
   "outputs": [],
   "source": [
    "from nltk.tokenize.casual import TweetTokenizer"
   ]
  },
  {
   "cell_type": "code",
   "execution_count": 29,
   "metadata": {},
   "outputs": [
    {
     "name": "stdout",
     "output_type": "stream",
     "text": [
      "['Also', 'near', 'my', 'house', 'I', 'have', 'idea', 'how', 'you', 'captured', 'this', 'scene', '😱']\n"
     ]
    }
   ],
   "source": [
    "s = 'Also near my house  I have idea how you captured this scene 😱 '\n",
    "s1 = TweetTokenizer().tokenize(s)\n",
    "print (s1)"
   ]
  },
  {
   "cell_type": "code",
   "execution_count": 30,
   "metadata": {},
   "outputs": [
    {
     "data": {
      "text/plain": [
       "5"
      ]
     },
     "execution_count": 30,
     "metadata": {},
     "output_type": "execute_result"
    }
   ],
   "source": [
    "len(cleaned_docs)"
   ]
  },
  {
   "cell_type": "markdown",
   "metadata": {},
   "source": [
    "# Top bigrams"
   ]
  },
  {
   "cell_type": "code",
   "execution_count": 31,
   "metadata": {},
   "outputs": [],
   "source": [
    "from nltk.util import ngrams\n",
    "from collections import Counter\n",
    "from operator import itemgetter\n",
    "from nltk.corpus import stopwords"
   ]
  },
  {
   "cell_type": "code",
   "execution_count": 33,
   "metadata": {},
   "outputs": [
    {
     "data": {
      "text/plain": [
       "_id                                   5b0a659fb711190e6e5e5858\n",
       "datetime                        Sun Aug 27 03:22:22 +0000 2017\n",
       "hashtags                    [KHOU11, Houston, HurricaneHarvey]\n",
       "id                                          901646040650194944\n",
       "retweets                                                  2783\n",
       "storm                                                   Harvey\n",
       "text         RT @AlexandriaKHOU: This is Allen Parkway in f...\n",
       "user_id                                            7.15273e+17\n",
       "user_name                                  Alexandria Williams\n",
       "timestamp                                  2017-08-27 03:22:22\n",
       "date                                                2017-08-27\n",
       "weekday                                                      6\n",
       "Name: 4, dtype: object"
      ]
     },
     "execution_count": 33,
     "metadata": {},
     "output_type": "execute_result"
    }
   ],
   "source": [
    "df.iloc[4]"
   ]
  },
  {
   "cell_type": "code",
   "execution_count": 36,
   "metadata": {},
   "outputs": [],
   "source": [
    "stop = stopwords.words('english')\n",
    "stop += ['every','like','amp','may']\n",
    "counter = Counter()\n",
    "\n",
    "n = 2\n",
    "for doc in cleaned_docs:\n",
    "    words = TextBlob(doc).words\n",
    "    words = [w for w in words if w not in stop]\n",
    "    bigrams = ngrams(words, n)\n",
    "    counter += Counter(bigrams)\n",
    "\n"
   ]
  },
  {
   "cell_type": "code",
   "execution_count": 37,
   "metadata": {},
   "outputs": [
    {
     "name": "stdout",
     "output_type": "stream",
     "text": [
      "This Allen: 2\n",
      "Allen Parkway: 2\n",
      "Parkway front: 2\n",
      "front studios: 2\n",
      "studios Everyone: 2\n",
      "Everyone please: 2\n",
      "please dont: 2\n",
      "dont drive: 2\n",
      "drive KHOU: 2\n",
      "KHOU Houston: 2\n"
     ]
    }
   ],
   "source": [
    "for phrase, count in counter.most_common(10):\n",
    "    phrase = \" \".join(phrase)\n",
    "    print(phrase+': '+str(count))"
   ]
  },
  {
   "cell_type": "code",
   "execution_count": 104,
   "metadata": {},
   "outputs": [],
   "source": [
    "import math"
   ]
  },
  {
   "cell_type": "code",
   "execution_count": 109,
   "metadata": {},
   "outputs": [
    {
     "data": {
      "text/plain": [
       "1641411"
      ]
     },
     "execution_count": 109,
     "metadata": {},
     "output_type": "execute_result"
    }
   ],
   "source": [
    "len(df.coords)"
   ]
  },
  {
   "cell_type": "code",
   "execution_count": 118,
   "metadata": {},
   "outputs": [],
   "source": [
    "count = 0\n",
    "for i in list(df.coords.isnull()):\n",
    "    if i is False:\n",
    "        count+=1"
   ]
  },
  {
   "cell_type": "code",
   "execution_count": 119,
   "metadata": {},
   "outputs": [
    {
     "data": {
      "text/plain": [
       "782"
      ]
     },
     "execution_count": 119,
     "metadata": {},
     "output_type": "execute_result"
    }
   ],
   "source": [
    "count"
   ]
  },
  {
   "cell_type": "markdown",
   "metadata": {},
   "source": [
    "## LDA"
   ]
  },
  {
   "cell_type": "code",
   "execution_count": null,
   "metadata": {},
   "outputs": [],
   "source": [
    "# gensim\n",
    "from gensim import corpora, models, similarities, matutils\n",
    "# sklearn\n",
    "from sklearn import datasets\n",
    "from sklearn.feature_extraction.text import CountVectorizer\n",
    "from sklearn.cluster import KMeans\n",
    "# logging for gensim (set to INFO)\n",
    "import logging\n",
    "logging.basicConfig(format='%(asctime)s : %(levelname)s : %(message)s', level=logging.INFO)"
   ]
  },
  {
   "cell_type": "markdown",
   "metadata": {},
   "source": [
    "## Tweets over time"
   ]
  },
  {
   "cell_type": "code",
   "execution_count": 16,
   "metadata": {},
   "outputs": [],
   "source": [
    "date_group = df.groupby(['date']).count().reset_index()"
   ]
  },
  {
   "cell_type": "code",
   "execution_count": 17,
   "metadata": {},
   "outputs": [
    {
     "data": {
      "text/html": [
       "<div>\n",
       "<style scoped>\n",
       "    .dataframe tbody tr th:only-of-type {\n",
       "        vertical-align: middle;\n",
       "    }\n",
       "\n",
       "    .dataframe tbody tr th {\n",
       "        vertical-align: top;\n",
       "    }\n",
       "\n",
       "    .dataframe thead th {\n",
       "        text-align: right;\n",
       "    }\n",
       "</style>\n",
       "<table border=\"1\" class=\"dataframe\">\n",
       "  <thead>\n",
       "    <tr style=\"text-align: right;\">\n",
       "      <th></th>\n",
       "      <th>date</th>\n",
       "      <th>coords</th>\n",
       "      <th>datetime</th>\n",
       "      <th>followers</th>\n",
       "      <th>following</th>\n",
       "      <th>hashtags</th>\n",
       "      <th>id</th>\n",
       "      <th>media</th>\n",
       "      <th>media_type</th>\n",
       "      <th>retweets</th>\n",
       "      <th>storm</th>\n",
       "      <th>text</th>\n",
       "      <th>user_id</th>\n",
       "      <th>user_location</th>\n",
       "      <th>user_name</th>\n",
       "      <th>timestamp</th>\n",
       "      <th>weekday</th>\n",
       "    </tr>\n",
       "  </thead>\n",
       "  <tbody>\n",
       "    <tr>\n",
       "      <th>0</th>\n",
       "      <td>2017-08-27</td>\n",
       "      <td>80</td>\n",
       "      <td>106945</td>\n",
       "      <td>4719</td>\n",
       "      <td>4719</td>\n",
       "      <td>106945</td>\n",
       "      <td>106945</td>\n",
       "      <td>14720</td>\n",
       "      <td>14720</td>\n",
       "      <td>106945</td>\n",
       "      <td>106945</td>\n",
       "      <td>106945</td>\n",
       "      <td>88952</td>\n",
       "      <td>4719</td>\n",
       "      <td>88952</td>\n",
       "      <td>106945</td>\n",
       "      <td>106945</td>\n",
       "    </tr>\n",
       "    <tr>\n",
       "      <th>1</th>\n",
       "      <td>2017-08-29</td>\n",
       "      <td>298</td>\n",
       "      <td>627137</td>\n",
       "      <td>22654</td>\n",
       "      <td>22654</td>\n",
       "      <td>627137</td>\n",
       "      <td>627137</td>\n",
       "      <td>57172</td>\n",
       "      <td>57172</td>\n",
       "      <td>627137</td>\n",
       "      <td>627137</td>\n",
       "      <td>627137</td>\n",
       "      <td>530703</td>\n",
       "      <td>22654</td>\n",
       "      <td>530703</td>\n",
       "      <td>627137</td>\n",
       "      <td>627137</td>\n",
       "    </tr>\n",
       "    <tr>\n",
       "      <th>2</th>\n",
       "      <td>2017-08-30</td>\n",
       "      <td>404</td>\n",
       "      <td>907329</td>\n",
       "      <td>36177</td>\n",
       "      <td>36177</td>\n",
       "      <td>907329</td>\n",
       "      <td>907329</td>\n",
       "      <td>81739</td>\n",
       "      <td>81739</td>\n",
       "      <td>907329</td>\n",
       "      <td>907329</td>\n",
       "      <td>907329</td>\n",
       "      <td>779697</td>\n",
       "      <td>36177</td>\n",
       "      <td>779697</td>\n",
       "      <td>907329</td>\n",
       "      <td>907329</td>\n",
       "    </tr>\n",
       "  </tbody>\n",
       "</table>\n",
       "</div>"
      ],
      "text/plain": [
       "         date  coords  datetime  followers  following  hashtags      id  \\\n",
       "0  2017-08-27      80    106945       4719       4719    106945  106945   \n",
       "1  2017-08-29     298    627137      22654      22654    627137  627137   \n",
       "2  2017-08-30     404    907329      36177      36177    907329  907329   \n",
       "\n",
       "   media  media_type  retweets   storm    text  user_id  user_location  \\\n",
       "0  14720       14720    106945  106945  106945    88952           4719   \n",
       "1  57172       57172    627137  627137  627137   530703          22654   \n",
       "2  81739       81739    907329  907329  907329   779697          36177   \n",
       "\n",
       "   user_name  timestamp  weekday  \n",
       "0      88952     106945   106945  \n",
       "1     530703     627137   627137  \n",
       "2     779697     907329   907329  "
      ]
     },
     "execution_count": 17,
     "metadata": {},
     "output_type": "execute_result"
    }
   ],
   "source": [
    "date_group"
   ]
  },
  {
   "cell_type": "code",
   "execution_count": 18,
   "metadata": {},
   "outputs": [],
   "source": [
    "date_group['date'] = date_group['date'].apply(str)"
   ]
  },
  {
   "cell_type": "code",
   "execution_count": 42,
   "metadata": {},
   "outputs": [],
   "source": [
    "#note that there is a file of tweets missing ids that could be used, but it's missing some of the metadata\n",
    "# missing_df = pd.read_csv('ISCRAM18_datasets/Harvey_missing_ids_50K.csv', sep='\\t')\n",
    "# len(missing_df)"
   ]
  },
  {
   "cell_type": "code",
   "execution_count": 19,
   "metadata": {},
   "outputs": [],
   "source": [
    "import seaborn as sns"
   ]
  },
  {
   "cell_type": "code",
   "execution_count": 20,
   "metadata": {},
   "outputs": [],
   "source": [
    "import matplotlib.pyplot as plt"
   ]
  },
  {
   "cell_type": "code",
   "execution_count": 22,
   "metadata": {},
   "outputs": [
    {
     "data": {
      "text/plain": [
       "([<matplotlib.axis.XTick at 0x7f6d522c8390>,\n",
       "  <matplotlib.axis.XTick at 0x7f6d522c5ba8>,\n",
       "  <matplotlib.axis.XTick at 0x7f6d522c80f0>],\n",
       " <a list of 3 Text xticklabel objects>)"
      ]
     },
     "execution_count": 22,
     "metadata": {},
     "output_type": "execute_result"
    },
    {
     "data": {
      "image/png": "[encoded data removed]",
      "text/plain": [
       "<Figure size 432x288 with 1 Axes>"
      ]
     },
     "metadata": {},
     "output_type": "display_data"
    }
   ],
   "source": [
    "plt.bar(date_group['date'], date_group['id'])\n",
    "plt.xticks(np.arange(3),('Sun','Mon','Tues'))"
   ]
  },
  {
   "cell_type": "markdown",
   "metadata": {},
   "source": [
    "## Sentiment Analysis"
   ]
  },
  {
   "cell_type": "code",
   "execution_count": 70,
   "metadata": {},
   "outputs": [],
   "source": []
  },
  {
   "cell_type": "code",
   "execution_count": null,
   "metadata": {},
   "outputs": [],
   "source": []
  }
 ],
 "metadata": {
  "kernelspec": {
   "display_name": "Python [conda env:anaconda3]",
   "language": "python",
   "name": "conda-env-anaconda3-py"
  },
  "language_info": {
   "codemirror_mode": {
    "name": "ipython",
    "version": 3
   },
   "file_extension": ".py",
   "mimetype": "text/x-python",
   "name": "python",
   "nbconvert_exporter": "python",
   "pygments_lexer": "ipython3",
   "version": "3.6.3"
  },
  "toc": {
   "base_numbering": 1,
   "nav_menu": {},
   "number_sections": true,
   "sideBar": true,
   "skip_h1_title": false,
   "title_cell": "Table of Contents",
   "title_sidebar": "Contents",
   "toc_cell": false,
   "toc_position": {},
   "toc_section_display": true,
   "toc_window_display": false
  }
 },
 "nbformat": 4,
 "nbformat_minor": 2
}
