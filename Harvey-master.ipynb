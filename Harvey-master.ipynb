{
 "cells": [
  {
   "cell_type": "code",
   "execution_count": 1,
   "metadata": {},
   "outputs": [
    {
     "name": "stderr",
     "output_type": "stream",
     "text": [
      "/home/ubuntu/anaconda3/lib/python3.6/site-packages/matplotlib/__init__.py:1067: UserWarning: Duplicate key in file \"/home/ubuntu/.config/matplotlib/matplotlibrc\", line #2\n",
      "  (fname, cnt))\n",
      "/home/ubuntu/anaconda3/lib/python3.6/site-packages/matplotlib/__init__.py:1067: UserWarning: Duplicate key in file \"/home/ubuntu/.config/matplotlib/matplotlibrc\", line #3\n",
      "  (fname, cnt))\n"
     ]
    }
   ],
   "source": [
    "import pickle\n",
    "import pandas as pd\n",
    "import numpy as np\n",
    "import nltk\n",
    "from textblob import TextBlob"
   ]
  },
  {
   "cell_type": "code",
   "execution_count": 2,
   "metadata": {},
   "outputs": [],
   "source": [
    "pull1 = pickle.load(open( \"TweetsRetrievalTool-1.2/harvey-tweets-pull.pkl\", \"rb\" ) )"
   ]
  },
  {
   "cell_type": "code",
   "execution_count": 3,
   "metadata": {},
   "outputs": [],
   "source": [
    "pull2 = pickle.load(open( \"TweetsRetrievalTool-1.2/harvey-tweets2-pull.pkl\", \"rb\" ) )\n",
    "# pull4a = pickle.load(open( \"TweetsRetrievalTool-1.2/harvey-tweets4a-pull.pkl\", \"rb\" ) )\n",
    "# pull4b = pickle.load(open( \"TweetsRetrievalTool-1.2/harvey-tweets4b-pull.pkl\", \"rb\" ) )"
   ]
  },
  {
   "cell_type": "code",
   "execution_count": 4,
   "metadata": {},
   "outputs": [],
   "source": [
    "pull3 = pickle.load(open( \"TweetsRetrievalTool-1.2/harvey-tweets3-pull.pkl\", \"rb\" ) )"
   ]
  },
  {
   "cell_type": "code",
   "execution_count": 5,
   "metadata": {},
   "outputs": [],
   "source": [
    "def get_tweet_metadata(tweet,meta_dict):\n",
    "    meta_dict['storm'] = 'Harvey'\n",
    "    try: meta_dict['id']  = tweet['id']\n",
    "    except: pass\n",
    "    try: meta_dict['user_id']  = tweet['entities']['user_mentions'][0]['id']\n",
    "    except: pass\n",
    "    try: meta_dict['user_name']  = tweet['entities']['user_mentions'][0]['name']\n",
    "    except: pass\n",
    "    try: meta_dict['datetime'] = tweet['created_at']\n",
    "    except: pass\n",
    "    try: meta_dict['media'] = tweet['entities']['media'][0]['media_url']\n",
    "    except: pass\n",
    "    try: meta_dict['media_type'] = tweet['extended_entities']['media'][0]['type']\n",
    "    except: pass\n",
    "    try: meta_dict['coords'] = tweet['geo']['coordinates']\n",
    "    except: pass\n",
    "    try: meta_dict['text'] = tweet['text']\n",
    "    except: pass\n",
    "    try: \n",
    "        hashtags_text = tweet['entities']['hashtags']\n",
    "        hashtags = []\n",
    "        for i in hashtags_text:\n",
    "            hashtags.append(i['text'])\n",
    "        meta_dict['hashtags'] = hashtags\n",
    "    except: pass\n",
    "    try: meta_dict['followers'] = tweet['extended_entities']['media'][0]['additional_media_info']['source_user']['followers_count']\n",
    "    except: pass\n",
    "    try: meta_dict['following'] = tweet['extended_entities']['media'][0]['additional_media_info']['source_user']['friends_count']\n",
    "    except: pass\n",
    "    try: meta_dict['user_location'] = tweet['extended_entities']['media'][0]['additional_media_info']['source_user']['location']\n",
    "    except: pass\n",
    "    try: meta_dict['retweets'] = tweet['retweet_count']\n",
    "    except: pass"
   ]
  },
  {
   "cell_type": "code",
   "execution_count": 6,
   "metadata": {},
   "outputs": [],
   "source": [
    "tweet_pulls = [pull1,pull2,pull3]\n",
    "aggregate_metadata = []\n",
    "\n",
    "for pull in tweet_pulls:\n",
    "    for tweet in pull:\n",
    "        meta_dict = {}\n",
    "        get_tweet_metadata(tweet,meta_dict)\n",
    "        aggregate_metadata.append(meta_dict)\n",
    "    "
   ]
  },
  {
   "cell_type": "code",
   "execution_count": 7,
   "metadata": {},
   "outputs": [],
   "source": [
    "pickle.dump(aggregate_metadata, open( \"aggregate_metadata.pkl\", \"wb\" ) )"
   ]
  },
  {
   "cell_type": "code",
   "execution_count": 8,
   "metadata": {},
   "outputs": [],
   "source": [
    "df = pd.DataFrame(aggregate_metadata)\n",
    "# df.head()"
   ]
  },
  {
   "cell_type": "code",
   "execution_count": 9,
   "metadata": {},
   "outputs": [
    {
     "data": {
      "text/html": [
       "<div>\n",
       "<style scoped>\n",
       "    .dataframe tbody tr th:only-of-type {\n",
       "        vertical-align: middle;\n",
       "    }\n",
       "\n",
       "    .dataframe tbody tr th {\n",
       "        vertical-align: top;\n",
       "    }\n",
       "\n",
       "    .dataframe thead th {\n",
       "        text-align: right;\n",
       "    }\n",
       "</style>\n",
       "<table border=\"1\" class=\"dataframe\">\n",
       "  <thead>\n",
       "    <tr style=\"text-align: right;\">\n",
       "      <th></th>\n",
       "      <th>coords</th>\n",
       "      <th>datetime</th>\n",
       "      <th>followers</th>\n",
       "      <th>following</th>\n",
       "      <th>hashtags</th>\n",
       "      <th>id</th>\n",
       "      <th>media</th>\n",
       "      <th>media_type</th>\n",
       "      <th>retweets</th>\n",
       "      <th>storm</th>\n",
       "      <th>text</th>\n",
       "      <th>user_id</th>\n",
       "      <th>user_location</th>\n",
       "      <th>user_name</th>\n",
       "    </tr>\n",
       "  </thead>\n",
       "  <tbody>\n",
       "    <tr>\n",
       "      <th>0</th>\n",
       "      <td>NaN</td>\n",
       "      <td>Sun Aug 27 03:22:27 +0000 2017</td>\n",
       "      <td>NaN</td>\n",
       "      <td>NaN</td>\n",
       "      <td>[KHOU11, Houston, HurricaneHarvey]</td>\n",
       "      <td>901646060912877568</td>\n",
       "      <td>NaN</td>\n",
       "      <td>NaN</td>\n",
       "      <td>2783</td>\n",
       "      <td>Harvey</td>\n",
       "      <td>RT @AlexandriaKHOU: This is Allen Parkway in f...</td>\n",
       "      <td>7.152734e+17</td>\n",
       "      <td>NaN</td>\n",
       "      <td>Alexandria Williams</td>\n",
       "    </tr>\n",
       "    <tr>\n",
       "      <th>1</th>\n",
       "      <td>NaN</td>\n",
       "      <td>Sun Aug 27 03:22:27 +0000 2017</td>\n",
       "      <td>NaN</td>\n",
       "      <td>NaN</td>\n",
       "      <td>[]</td>\n",
       "      <td>901646059704901632</td>\n",
       "      <td>NaN</td>\n",
       "      <td>NaN</td>\n",
       "      <td>41403</td>\n",
       "      <td>Harvey</td>\n",
       "      <td>RT @ahleeyou: God punish us with a huge storm ...</td>\n",
       "      <td>8.786483e+08</td>\n",
       "      <td>NaN</td>\n",
       "      <td>Alieu</td>\n",
       "    </tr>\n",
       "    <tr>\n",
       "      <th>2</th>\n",
       "      <td>NaN</td>\n",
       "      <td>Sun Aug 27 03:22:22 +0000 2017</td>\n",
       "      <td>NaN</td>\n",
       "      <td>NaN</td>\n",
       "      <td>[KHOU11, Houston, HurricaneHarvey]</td>\n",
       "      <td>901646040650194944</td>\n",
       "      <td>NaN</td>\n",
       "      <td>NaN</td>\n",
       "      <td>2783</td>\n",
       "      <td>Harvey</td>\n",
       "      <td>RT @AlexandriaKHOU: This is Allen Parkway in f...</td>\n",
       "      <td>7.152734e+17</td>\n",
       "      <td>NaN</td>\n",
       "      <td>Alexandria Williams</td>\n",
       "    </tr>\n",
       "    <tr>\n",
       "      <th>3</th>\n",
       "      <td>NaN</td>\n",
       "      <td>Sun Aug 27 03:22:22 +0000 2017</td>\n",
       "      <td>NaN</td>\n",
       "      <td>NaN</td>\n",
       "      <td>[hurricaneharvey]</td>\n",
       "      <td>901646042579468288</td>\n",
       "      <td>NaN</td>\n",
       "      <td>NaN</td>\n",
       "      <td>14748</td>\n",
       "      <td>Harvey</td>\n",
       "      <td>RT @dariusherron1: The differences in damage a...</td>\n",
       "      <td>1.680892e+09</td>\n",
       "      <td>NaN</td>\n",
       "      <td>Darius</td>\n",
       "    </tr>\n",
       "    <tr>\n",
       "      <th>4</th>\n",
       "      <td>NaN</td>\n",
       "      <td>Sun Aug 27 03:22:23 +0000 2017</td>\n",
       "      <td>NaN</td>\n",
       "      <td>NaN</td>\n",
       "      <td>[]</td>\n",
       "      <td>901646046736007172</td>\n",
       "      <td>NaN</td>\n",
       "      <td>NaN</td>\n",
       "      <td>65229</td>\n",
       "      <td>Harvey</td>\n",
       "      <td>RT @__wag_: RT this for all my folk in Houston...</td>\n",
       "      <td>7.678133e+08</td>\n",
       "      <td>NaN</td>\n",
       "      <td>🅱roly.</td>\n",
       "    </tr>\n",
       "  </tbody>\n",
       "</table>\n",
       "</div>"
      ],
      "text/plain": [
       "  coords                        datetime  followers  following  \\\n",
       "0    NaN  Sun Aug 27 03:22:27 +0000 2017        NaN        NaN   \n",
       "1    NaN  Sun Aug 27 03:22:27 +0000 2017        NaN        NaN   \n",
       "2    NaN  Sun Aug 27 03:22:22 +0000 2017        NaN        NaN   \n",
       "3    NaN  Sun Aug 27 03:22:22 +0000 2017        NaN        NaN   \n",
       "4    NaN  Sun Aug 27 03:22:23 +0000 2017        NaN        NaN   \n",
       "\n",
       "                             hashtags                  id media media_type  \\\n",
       "0  [KHOU11, Houston, HurricaneHarvey]  901646060912877568   NaN        NaN   \n",
       "1                                  []  901646059704901632   NaN        NaN   \n",
       "2  [KHOU11, Houston, HurricaneHarvey]  901646040650194944   NaN        NaN   \n",
       "3                   [hurricaneharvey]  901646042579468288   NaN        NaN   \n",
       "4                                  []  901646046736007172   NaN        NaN   \n",
       "\n",
       "   retweets   storm                                               text  \\\n",
       "0      2783  Harvey  RT @AlexandriaKHOU: This is Allen Parkway in f...   \n",
       "1     41403  Harvey  RT @ahleeyou: God punish us with a huge storm ...   \n",
       "2      2783  Harvey  RT @AlexandriaKHOU: This is Allen Parkway in f...   \n",
       "3     14748  Harvey  RT @dariusherron1: The differences in damage a...   \n",
       "4     65229  Harvey  RT @__wag_: RT this for all my folk in Houston...   \n",
       "\n",
       "        user_id user_location            user_name  \n",
       "0  7.152734e+17           NaN  Alexandria Williams  \n",
       "1  8.786483e+08           NaN                Alieu  \n",
       "2  7.152734e+17           NaN  Alexandria Williams  \n",
       "3  1.680892e+09           NaN               Darius  \n",
       "4  7.678133e+08           NaN               🅱roly.  "
      ]
     },
     "execution_count": 9,
     "metadata": {},
     "output_type": "execute_result"
    }
   ],
   "source": [
    "df.head()"
   ]
  },
  {
   "cell_type": "markdown",
   "metadata": {},
   "source": [
    "# Clean metadata"
   ]
  },
  {
   "cell_type": "code",
   "execution_count": 11,
   "metadata": {},
   "outputs": [],
   "source": [
    "import time\n",
    "from datetime import time\n",
    "from datetime import datetime\n",
    "import re"
   ]
  },
  {
   "cell_type": "code",
   "execution_count": 12,
   "metadata": {},
   "outputs": [],
   "source": [
    "timestamp = []\n",
    "date_out = []\n",
    "weekday = []\n",
    "\n",
    "dates = df['datetime']\n",
    "for i in dates:\n",
    "    date = re.sub('\\+0000 ', '', i)\n",
    "    datetime = datetime.strptime(date, \"%a %b %d %X %Y\") \n",
    "    timestamp.append(datetime)\n",
    "    date_out.append(datetime.date())\n",
    "    weekday.append(datetime.weekday())"
   ]
  },
  {
   "cell_type": "code",
   "execution_count": 14,
   "metadata": {},
   "outputs": [],
   "source": [
    "df['timestamp'] = timestamp\n",
    "df['date'] = date_out\n",
    "df['weekday'] = weekday\n"
   ]
  },
  {
   "cell_type": "code",
   "execution_count": 15,
   "metadata": {},
   "outputs": [
    {
     "data": {
      "text/html": [
       "<div>\n",
       "<style scoped>\n",
       "    .dataframe tbody tr th:only-of-type {\n",
       "        vertical-align: middle;\n",
       "    }\n",
       "\n",
       "    .dataframe tbody tr th {\n",
       "        vertical-align: top;\n",
       "    }\n",
       "\n",
       "    .dataframe thead th {\n",
       "        text-align: right;\n",
       "    }\n",
       "</style>\n",
       "<table border=\"1\" class=\"dataframe\">\n",
       "  <thead>\n",
       "    <tr style=\"text-align: right;\">\n",
       "      <th></th>\n",
       "      <th>coords</th>\n",
       "      <th>datetime</th>\n",
       "      <th>followers</th>\n",
       "      <th>following</th>\n",
       "      <th>hashtags</th>\n",
       "      <th>id</th>\n",
       "      <th>media</th>\n",
       "      <th>media_type</th>\n",
       "      <th>retweets</th>\n",
       "      <th>storm</th>\n",
       "      <th>text</th>\n",
       "      <th>user_id</th>\n",
       "      <th>user_location</th>\n",
       "      <th>user_name</th>\n",
       "      <th>timestamp</th>\n",
       "      <th>date</th>\n",
       "      <th>weekday</th>\n",
       "    </tr>\n",
       "  </thead>\n",
       "  <tbody>\n",
       "    <tr>\n",
       "      <th>0</th>\n",
       "      <td>NaN</td>\n",
       "      <td>Sun Aug 27 03:22:27 +0000 2017</td>\n",
       "      <td>NaN</td>\n",
       "      <td>NaN</td>\n",
       "      <td>[KHOU11, Houston, HurricaneHarvey]</td>\n",
       "      <td>901646060912877568</td>\n",
       "      <td>NaN</td>\n",
       "      <td>NaN</td>\n",
       "      <td>2783</td>\n",
       "      <td>Harvey</td>\n",
       "      <td>RT @AlexandriaKHOU: This is Allen Parkway in f...</td>\n",
       "      <td>7.152734e+17</td>\n",
       "      <td>NaN</td>\n",
       "      <td>Alexandria Williams</td>\n",
       "      <td>2017-08-27 03:22:27</td>\n",
       "      <td>2017-08-27</td>\n",
       "      <td>6</td>\n",
       "    </tr>\n",
       "    <tr>\n",
       "      <th>1</th>\n",
       "      <td>NaN</td>\n",
       "      <td>Sun Aug 27 03:22:27 +0000 2017</td>\n",
       "      <td>NaN</td>\n",
       "      <td>NaN</td>\n",
       "      <td>[]</td>\n",
       "      <td>901646059704901632</td>\n",
       "      <td>NaN</td>\n",
       "      <td>NaN</td>\n",
       "      <td>41403</td>\n",
       "      <td>Harvey</td>\n",
       "      <td>RT @ahleeyou: God punish us with a huge storm ...</td>\n",
       "      <td>8.786483e+08</td>\n",
       "      <td>NaN</td>\n",
       "      <td>Alieu</td>\n",
       "      <td>2017-08-27 03:22:27</td>\n",
       "      <td>2017-08-27</td>\n",
       "      <td>6</td>\n",
       "    </tr>\n",
       "    <tr>\n",
       "      <th>2</th>\n",
       "      <td>NaN</td>\n",
       "      <td>Sun Aug 27 03:22:22 +0000 2017</td>\n",
       "      <td>NaN</td>\n",
       "      <td>NaN</td>\n",
       "      <td>[KHOU11, Houston, HurricaneHarvey]</td>\n",
       "      <td>901646040650194944</td>\n",
       "      <td>NaN</td>\n",
       "      <td>NaN</td>\n",
       "      <td>2783</td>\n",
       "      <td>Harvey</td>\n",
       "      <td>RT @AlexandriaKHOU: This is Allen Parkway in f...</td>\n",
       "      <td>7.152734e+17</td>\n",
       "      <td>NaN</td>\n",
       "      <td>Alexandria Williams</td>\n",
       "      <td>2017-08-27 03:22:22</td>\n",
       "      <td>2017-08-27</td>\n",
       "      <td>6</td>\n",
       "    </tr>\n",
       "    <tr>\n",
       "      <th>3</th>\n",
       "      <td>NaN</td>\n",
       "      <td>Sun Aug 27 03:22:22 +0000 2017</td>\n",
       "      <td>NaN</td>\n",
       "      <td>NaN</td>\n",
       "      <td>[hurricaneharvey]</td>\n",
       "      <td>901646042579468288</td>\n",
       "      <td>NaN</td>\n",
       "      <td>NaN</td>\n",
       "      <td>14748</td>\n",
       "      <td>Harvey</td>\n",
       "      <td>RT @dariusherron1: The differences in damage a...</td>\n",
       "      <td>1.680892e+09</td>\n",
       "      <td>NaN</td>\n",
       "      <td>Darius</td>\n",
       "      <td>2017-08-27 03:22:22</td>\n",
       "      <td>2017-08-27</td>\n",
       "      <td>6</td>\n",
       "    </tr>\n",
       "    <tr>\n",
       "      <th>4</th>\n",
       "      <td>NaN</td>\n",
       "      <td>Sun Aug 27 03:22:23 +0000 2017</td>\n",
       "      <td>NaN</td>\n",
       "      <td>NaN</td>\n",
       "      <td>[]</td>\n",
       "      <td>901646046736007172</td>\n",
       "      <td>NaN</td>\n",
       "      <td>NaN</td>\n",
       "      <td>65229</td>\n",
       "      <td>Harvey</td>\n",
       "      <td>RT @__wag_: RT this for all my folk in Houston...</td>\n",
       "      <td>7.678133e+08</td>\n",
       "      <td>NaN</td>\n",
       "      <td>🅱roly.</td>\n",
       "      <td>2017-08-27 03:22:23</td>\n",
       "      <td>2017-08-27</td>\n",
       "      <td>6</td>\n",
       "    </tr>\n",
       "  </tbody>\n",
       "</table>\n",
       "</div>"
      ],
      "text/plain": [
       "  coords                        datetime  followers  following  \\\n",
       "0    NaN  Sun Aug 27 03:22:27 +0000 2017        NaN        NaN   \n",
       "1    NaN  Sun Aug 27 03:22:27 +0000 2017        NaN        NaN   \n",
       "2    NaN  Sun Aug 27 03:22:22 +0000 2017        NaN        NaN   \n",
       "3    NaN  Sun Aug 27 03:22:22 +0000 2017        NaN        NaN   \n",
       "4    NaN  Sun Aug 27 03:22:23 +0000 2017        NaN        NaN   \n",
       "\n",
       "                             hashtags                  id media media_type  \\\n",
       "0  [KHOU11, Houston, HurricaneHarvey]  901646060912877568   NaN        NaN   \n",
       "1                                  []  901646059704901632   NaN        NaN   \n",
       "2  [KHOU11, Houston, HurricaneHarvey]  901646040650194944   NaN        NaN   \n",
       "3                   [hurricaneharvey]  901646042579468288   NaN        NaN   \n",
       "4                                  []  901646046736007172   NaN        NaN   \n",
       "\n",
       "   retweets   storm                                               text  \\\n",
       "0      2783  Harvey  RT @AlexandriaKHOU: This is Allen Parkway in f...   \n",
       "1     41403  Harvey  RT @ahleeyou: God punish us with a huge storm ...   \n",
       "2      2783  Harvey  RT @AlexandriaKHOU: This is Allen Parkway in f...   \n",
       "3     14748  Harvey  RT @dariusherron1: The differences in damage a...   \n",
       "4     65229  Harvey  RT @__wag_: RT this for all my folk in Houston...   \n",
       "\n",
       "        user_id user_location            user_name           timestamp  \\\n",
       "0  7.152734e+17           NaN  Alexandria Williams 2017-08-27 03:22:27   \n",
       "1  8.786483e+08           NaN                Alieu 2017-08-27 03:22:27   \n",
       "2  7.152734e+17           NaN  Alexandria Williams 2017-08-27 03:22:22   \n",
       "3  1.680892e+09           NaN               Darius 2017-08-27 03:22:22   \n",
       "4  7.678133e+08           NaN               🅱roly. 2017-08-27 03:22:23   \n",
       "\n",
       "         date  weekday  \n",
       "0  2017-08-27        6  \n",
       "1  2017-08-27        6  \n",
       "2  2017-08-27        6  \n",
       "3  2017-08-27        6  \n",
       "4  2017-08-27        6  "
      ]
     },
     "execution_count": 15,
     "metadata": {},
     "output_type": "execute_result"
    }
   ],
   "source": [
    "df.head()"
   ]
  },
  {
   "cell_type": "code",
   "execution_count": 96,
   "metadata": {},
   "outputs": [
    {
     "data": {
      "text/plain": [
       "'RT @dariusherron1: The differences in damage a category 1, 2, 3, 4, &amp; 5 hurricane can cause.  #hurricaneharvey\\n\\n https://t.co/sDP76piZ8N'"
      ]
     },
     "execution_count": 96,
     "metadata": {},
     "output_type": "execute_result"
    }
   ],
   "source": [
    "df.iloc[3,:]['text']"
   ]
  },
  {
   "cell_type": "markdown",
   "metadata": {},
   "source": [
    "## Text cleaning\n",
    "need to remove:\n",
    "    - stop words\n",
    "    - non-ascii characters (maybe bring back emojis later?)\n",
    "    - punctuation\n",
    "    - numbers\n",
    "    - URLs\n",
    "    - hashtags\n",
    "    "
   ]
  },
  {
   "cell_type": "code",
   "execution_count": 47,
   "metadata": {},
   "outputs": [],
   "source": [
    "documents = list(df.text)"
   ]
  },
  {
   "cell_type": "code",
   "execution_count": 50,
   "metadata": {},
   "outputs": [],
   "source": [
    "import string\n",
    "cleaned_docs = []\n",
    "for doc in documents:\n",
    "#     doc = re.sub('#\\S*', ' ', doc)\n",
    "    doc = re.sub('RT ', ' ', doc)\n",
    "    doc = re.sub('@\\S*', ' ', doc)\n",
    "    doc = re.sub('&amp ', ' ', doc)\n",
    "    doc = re.sub('https:\\S*', '', doc)\n",
    "    doc = re.sub('\\\\n', ' ', doc)\n",
    "    doc = re.sub('[0-9]', '', doc)\n",
    "    exclude = set('!\"$%&\\'()*+,-./:;<=>?@[\\\\]^_`{|}~'+'…')\n",
    "    doc = ''.join(ch for ch in doc if ch not in exclude)\n",
    "    cleaned_docs.append(doc)"
   ]
  },
  {
   "cell_type": "code",
   "execution_count": 30,
   "metadata": {},
   "outputs": [],
   "source": [
    "from nltk.tokenize.casual import TweetTokenizer"
   ]
  },
  {
   "cell_type": "code",
   "execution_count": 31,
   "metadata": {},
   "outputs": [
    {
     "name": "stdout",
     "output_type": "stream",
     "text": [
      "['Also', 'near', 'my', 'house', 'I', 'have', 'idea', 'how', 'you', 'captured', 'this', 'scene', '😱']\n"
     ]
    }
   ],
   "source": [
    "s = 'Also near my house  I have idea how you captured this scene 😱 '\n",
    "s1 = TweetTokenizer().tokenize(s)\n",
    "print (s1)"
   ]
  },
  {
   "cell_type": "code",
   "execution_count": 53,
   "metadata": {},
   "outputs": [
    {
     "data": {
      "text/plain": [
       "1641411"
      ]
     },
     "execution_count": 53,
     "metadata": {},
     "output_type": "execute_result"
    }
   ],
   "source": [
    "len(cleaned_docs)"
   ]
  },
  {
   "cell_type": "markdown",
   "metadata": {},
   "source": [
    "# Top bigrams"
   ]
  },
  {
   "cell_type": "code",
   "execution_count": 52,
   "metadata": {},
   "outputs": [],
   "source": [
    "from nltk.util import ngrams\n",
    "from collections import Counter\n",
    "from operator import itemgetter\n",
    "from nltk.corpus import stopwords"
   ]
  },
  {
   "cell_type": "code",
   "execution_count": null,
   "metadata": {},
   "outputs": [],
   "source": [
    "stop = stopwords.words('english')\n",
    "stop += ['every','like','amp']\n",
    "counter = Counter()\n",
    "\n",
    "n = 2\n",
    "for doc in cleaned_docs:\n",
    "    words = TextBlob(doc).words\n",
    "    words = [w for w in words if w not in stop]\n",
    "    bigrams = ngrams(words, n)\n",
    "    counter += Counter(bigrams)\n",
    "\n"
   ]
  },
  {
   "cell_type": "code",
   "execution_count": 46,
   "metadata": {},
   "outputs": [
    {
     "name": "stdout",
     "output_type": "stream",
     "text": [
      "Hurricane Harvey: 1701\n",
      "help affected: 370\n",
      "relief efforts: 367\n",
      "Houston area: 337\n",
      "donate post: 330\n",
      "post gets: 328\n",
      "HurricaneHarvey relief: 319\n",
      "Sigma Nu: 315\n",
      "Nu donate: 315\n",
      "gets Houston: 315\n"
     ]
    }
   ],
   "source": [
    "for phrase, count in counter.most_common(10):\n",
    "    phrase = \" \".join(phrase)\n",
    "    print(phrase+': '+str(count))"
   ]
  },
  {
   "cell_type": "markdown",
   "metadata": {},
   "source": [
    "## EDA"
   ]
  },
  {
   "cell_type": "markdown",
   "metadata": {},
   "source": [
    "## Tweets over time"
   ]
  },
  {
   "cell_type": "code",
   "execution_count": 16,
   "metadata": {},
   "outputs": [],
   "source": [
    "date_group = df.groupby(['date']).count().reset_index()"
   ]
  },
  {
   "cell_type": "code",
   "execution_count": 17,
   "metadata": {},
   "outputs": [
    {
     "data": {
      "text/html": [
       "<div>\n",
       "<style scoped>\n",
       "    .dataframe tbody tr th:only-of-type {\n",
       "        vertical-align: middle;\n",
       "    }\n",
       "\n",
       "    .dataframe tbody tr th {\n",
       "        vertical-align: top;\n",
       "    }\n",
       "\n",
       "    .dataframe thead th {\n",
       "        text-align: right;\n",
       "    }\n",
       "</style>\n",
       "<table border=\"1\" class=\"dataframe\">\n",
       "  <thead>\n",
       "    <tr style=\"text-align: right;\">\n",
       "      <th></th>\n",
       "      <th>date</th>\n",
       "      <th>coords</th>\n",
       "      <th>datetime</th>\n",
       "      <th>followers</th>\n",
       "      <th>following</th>\n",
       "      <th>hashtags</th>\n",
       "      <th>id</th>\n",
       "      <th>media</th>\n",
       "      <th>media_type</th>\n",
       "      <th>retweets</th>\n",
       "      <th>storm</th>\n",
       "      <th>text</th>\n",
       "      <th>user_id</th>\n",
       "      <th>user_location</th>\n",
       "      <th>user_name</th>\n",
       "      <th>timestamp</th>\n",
       "      <th>weekday</th>\n",
       "    </tr>\n",
       "  </thead>\n",
       "  <tbody>\n",
       "    <tr>\n",
       "      <th>0</th>\n",
       "      <td>2017-08-27</td>\n",
       "      <td>80</td>\n",
       "      <td>106945</td>\n",
       "      <td>4719</td>\n",
       "      <td>4719</td>\n",
       "      <td>106945</td>\n",
       "      <td>106945</td>\n",
       "      <td>14720</td>\n",
       "      <td>14720</td>\n",
       "      <td>106945</td>\n",
       "      <td>106945</td>\n",
       "      <td>106945</td>\n",
       "      <td>88952</td>\n",
       "      <td>4719</td>\n",
       "      <td>88952</td>\n",
       "      <td>106945</td>\n",
       "      <td>106945</td>\n",
       "    </tr>\n",
       "    <tr>\n",
       "      <th>1</th>\n",
       "      <td>2017-08-29</td>\n",
       "      <td>298</td>\n",
       "      <td>627137</td>\n",
       "      <td>22654</td>\n",
       "      <td>22654</td>\n",
       "      <td>627137</td>\n",
       "      <td>627137</td>\n",
       "      <td>57172</td>\n",
       "      <td>57172</td>\n",
       "      <td>627137</td>\n",
       "      <td>627137</td>\n",
       "      <td>627137</td>\n",
       "      <td>530703</td>\n",
       "      <td>22654</td>\n",
       "      <td>530703</td>\n",
       "      <td>627137</td>\n",
       "      <td>627137</td>\n",
       "    </tr>\n",
       "    <tr>\n",
       "      <th>2</th>\n",
       "      <td>2017-08-30</td>\n",
       "      <td>404</td>\n",
       "      <td>907329</td>\n",
       "      <td>36177</td>\n",
       "      <td>36177</td>\n",
       "      <td>907329</td>\n",
       "      <td>907329</td>\n",
       "      <td>81739</td>\n",
       "      <td>81739</td>\n",
       "      <td>907329</td>\n",
       "      <td>907329</td>\n",
       "      <td>907329</td>\n",
       "      <td>779697</td>\n",
       "      <td>36177</td>\n",
       "      <td>779697</td>\n",
       "      <td>907329</td>\n",
       "      <td>907329</td>\n",
       "    </tr>\n",
       "  </tbody>\n",
       "</table>\n",
       "</div>"
      ],
      "text/plain": [
       "         date  coords  datetime  followers  following  hashtags      id  \\\n",
       "0  2017-08-27      80    106945       4719       4719    106945  106945   \n",
       "1  2017-08-29     298    627137      22654      22654    627137  627137   \n",
       "2  2017-08-30     404    907329      36177      36177    907329  907329   \n",
       "\n",
       "   media  media_type  retweets   storm    text  user_id  user_location  \\\n",
       "0  14720       14720    106945  106945  106945    88952           4719   \n",
       "1  57172       57172    627137  627137  627137   530703          22654   \n",
       "2  81739       81739    907329  907329  907329   779697          36177   \n",
       "\n",
       "   user_name  timestamp  weekday  \n",
       "0      88952     106945   106945  \n",
       "1     530703     627137   627137  \n",
       "2     779697     907329   907329  "
      ]
     },
     "execution_count": 17,
     "metadata": {},
     "output_type": "execute_result"
    }
   ],
   "source": [
    "date_group"
   ]
  },
  {
   "cell_type": "code",
   "execution_count": 18,
   "metadata": {},
   "outputs": [],
   "source": [
    "date_group['date'] = date_group['date'].apply(str)"
   ]
  },
  {
   "cell_type": "code",
   "execution_count": 42,
   "metadata": {},
   "outputs": [],
   "source": [
    "#note that there is a file of tweets missing ids that could be used, but it's missing some of the metadata\n",
    "# missing_df = pd.read_csv('ISCRAM18_datasets/Harvey_missing_ids_50K.csv', sep='\\t')\n",
    "# len(missing_df)"
   ]
  },
  {
   "cell_type": "code",
   "execution_count": 19,
   "metadata": {},
   "outputs": [],
   "source": [
    "import seaborn as sns"
   ]
  },
  {
   "cell_type": "code",
   "execution_count": 20,
   "metadata": {},
   "outputs": [],
   "source": [
    "import matplotlib.pyplot as plt"
   ]
  },
  {
   "cell_type": "code",
   "execution_count": 22,
   "metadata": {},
   "outputs": [
    {
     "data": {
      "text/plain": [
       "([<matplotlib.axis.XTick at 0x7f6d522c8390>,\n",
       "  <matplotlib.axis.XTick at 0x7f6d522c5ba8>,\n",
       "  <matplotlib.axis.XTick at 0x7f6d522c80f0>],\n",
       " <a list of 3 Text xticklabel objects>)"
      ]
     },
     "execution_count": 22,
     "metadata": {},
     "output_type": "execute_result"
    },
    {
     "data": {
      "image/png": "[encoded data removed]",
      "text/plain": [
       "<Figure size 432x288 with 1 Axes>"
      ]
     },
     "metadata": {},
     "output_type": "display_data"
    }
   ],
   "source": [
    "plt.bar(date_group['date'], date_group['id'])\n",
    "plt.xticks(np.arange(3),('Sun','Mon','Tues'))"
   ]
  },
  {
   "cell_type": "markdown",
   "metadata": {},
   "source": [
    "## Sentiment Analysis"
   ]
  },
  {
   "cell_type": "code",
   "execution_count": 70,
   "metadata": {},
   "outputs": [],
   "source": []
  },
  {
   "cell_type": "code",
   "execution_count": null,
   "metadata": {},
   "outputs": [],
   "source": []
  }
 ],
 "metadata": {
  "kernelspec": {
   "display_name": "Environment (conda_anaconda3)",
   "language": "python",
   "name": "conda_anaconda3"
  },
  "language_info": {
   "codemirror_mode": {
    "name": "ipython",
    "version": 3
   },
   "file_extension": ".py",
   "mimetype": "text/x-python",
   "name": "python",
   "nbconvert_exporter": "python",
   "pygments_lexer": "ipython3",
   "version": "3.6.4"
  }
 },
 "nbformat": 4,
 "nbformat_minor": 2
}
