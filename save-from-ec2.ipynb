{
 "cells": [
  {
   "cell_type": "code",
   "execution_count": 2,
   "metadata": {},
   "outputs": [
    {
     "ename": "FileNotFoundError",
     "evalue": "[Errno 2] No such file or directory: 'harvey_tweets_4-pull.txt'",
     "output_type": "error",
     "traceback": [
      "\u001b[0;31m---------------------------------------------------------------------------\u001b[0m",
      "\u001b[0;31mFileNotFoundError\u001b[0m                         Traceback (most recent call last)",
      "\u001b[0;32m<ipython-input-2-9e8b9ffdcd79>\u001b[0m in \u001b[0;36m<module>\u001b[0;34m()\u001b[0m\n\u001b[1;32m      1\u001b[0m \u001b[0mtweets4\u001b[0m \u001b[0;34m=\u001b[0m \u001b[0;34m[\u001b[0m\u001b[0;34m]\u001b[0m\u001b[0;34m\u001b[0m\u001b[0m\n\u001b[0;32m----> 2\u001b[0;31m \u001b[0;32mwith\u001b[0m \u001b[0mopen\u001b[0m\u001b[0;34m(\u001b[0m\u001b[0;34m\"harvey_tweets_4-pull.txt\"\u001b[0m\u001b[0;34m)\u001b[0m \u001b[0;32mas\u001b[0m \u001b[0mmyfile\u001b[0m\u001b[0;34m:\u001b[0m\u001b[0;34m\u001b[0m\u001b[0m\n\u001b[0m\u001b[1;32m      3\u001b[0m     \u001b[0;32mfor\u001b[0m \u001b[0mline\u001b[0m \u001b[0;32min\u001b[0m \u001b[0mmyfile\u001b[0m\u001b[0;34m:\u001b[0m\u001b[0;34m\u001b[0m\u001b[0m\n\u001b[1;32m      4\u001b[0m         \u001b[0mline\u001b[0m \u001b[0;34m=\u001b[0m \u001b[0mline\u001b[0m\u001b[0;34m.\u001b[0m\u001b[0mstrip\u001b[0m\u001b[0;34m(\u001b[0m\u001b[0;34m)\u001b[0m\u001b[0;34m\u001b[0m\u001b[0m\n\u001b[1;32m      5\u001b[0m         \u001b[0mline_dict\u001b[0m \u001b[0;34m=\u001b[0m \u001b[0mjson\u001b[0m\u001b[0;34m.\u001b[0m\u001b[0mloads\u001b[0m\u001b[0;34m(\u001b[0m\u001b[0mline\u001b[0m\u001b[0;34m)\u001b[0m\u001b[0;34m\u001b[0m\u001b[0m\n",
      "\u001b[0;31mFileNotFoundError\u001b[0m: [Errno 2] No such file or directory: 'harvey_tweets_4-pull.txt'"
     ]
    }
   ],
   "source": [
    "tweets4 = []\n",
    "with open(\"harvey_tweets_4-pull.txt\") as myfile:\n",
    "    for line in myfile:\n",
    "        line = line.strip()\n",
    "        line_dict = json.loads(line)\n",
    "        tweets4.append(line_dict)"
   ]
  },
  {
   "cell_type": "code",
   "execution_count": null,
   "metadata": {},
   "outputs": [],
   "source": [
    "len(tweets4)"
   ]
  },
  {
   "cell_type": "code",
   "execution_count": null,
   "metadata": {},
   "outputs": [],
   "source": [
    "pickle.dump(tweets4, open( \"harvey-tweets3-pull.pkl\", \"wb\" ) )"
   ]
  },
  {
   "cell_type": "code",
   "execution_count": null,
   "metadata": {},
   "outputs": [],
   "source": [
    "def get_tweet_metadata(tweet,meta_dict):\n",
    "    meta_dict['storm'] = 'Harvey'\n",
    "    try: meta_dict['id']  = tweet['id']\n",
    "    except: pass\n",
    "    try: meta_dict['user_id']  = tweet['entities']['user_mentions'][0]['id']\n",
    "    except: pass\n",
    "    try: meta_dict['user_name']  = tweet['entities']['user_mentions'][0]['name']\n",
    "    except: pass\n",
    "    try: meta_dict['datetime'] = tweet['created_at']\n",
    "    except: pass\n",
    "    try: meta_dict['media'] = tweet['entities']['media'][0]['media_url']\n",
    "    except: pass\n",
    "    try: meta_dict['media_type'] = tweet['extended_entities']['media'][0]['type']\n",
    "    except: pass\n",
    "    try: meta_dict['coords'] = tweet['geo']['coordinates']\n",
    "    except: pass\n",
    "    try: meta_dict['text'] = tweet['text']\n",
    "    except: pass\n",
    "    try: \n",
    "        hashtags_text = tweet['entities']['hashtags']\n",
    "        hashtags = []\n",
    "        for i in hashtags_text:\n",
    "            hashtags.append(i['text'])\n",
    "        meta_dict['hashtags'] = hashtags\n",
    "    except: pass\n",
    "    try: meta_dict['followers'] = tweet['extended_entities']['media'][0]['additional_media_info']['source_user']['followers_count']\n",
    "    except: pass\n",
    "    try: meta_dict['following'] = tweet['extended_entities']['media'][0]['additional_media_info']['source_user']['friends_count']\n",
    "    except: pass\n",
    "    try: meta_dict['user_location'] = tweet['extended_entities']['media'][0]['additional_media_info']['source_user']['location']\n",
    "    except: pass\n",
    "    try: meta_dict['retweets'] = tweet['retweet_count']\n",
    "    except: pass"
   ]
  },
  {
   "cell_type": "code",
   "execution_count": null,
   "metadata": {},
   "outputs": [],
   "source": [
    "meta_dict_agg2 = []\n",
    "for tweet in tweets2:\n",
    "    meta_dict = {}\n",
    "    get_tweet_metadata(tweet,meta_dict)\n",
    "    meta_dict_agg2.append(meta_dict)\n",
    "    "
   ]
  },
  {
   "cell_type": "code",
   "execution_count": null,
   "metadata": {},
   "outputs": [],
   "source": [
    "df2 = pd.DataFrame(meta_dict_agg2)"
   ]
  },
  {
   "cell_type": "code",
   "execution_count": null,
   "metadata": {},
   "outputs": [],
   "source": [
    "df_agg = df.append(df2, ignore_index=True)"
   ]
  },
  {
   "cell_type": "code",
   "execution_count": null,
   "metadata": {},
   "outputs": [],
   "source": [
    "import time\n",
    "from datetime import time\n",
    "from datetime import datetime\n",
    "import re"
   ]
  },
  {
   "cell_type": "code",
   "execution_count": null,
   "metadata": {},
   "outputs": [],
   "source": [
    "timestamp = []\n",
    "dates = df['datetime']\n",
    "for i in dates:\n",
    "    date = re.sub('\\+0000 ', '', i)\n",
    "    datetime = datetime.strptime(date, \"%a %b %d %X %Y\") \n",
    "    timestamp.append(datetime)"
   ]
  }
 ],
 "metadata": {
  "kernelspec": {
   "display_name": "Python [conda root]",
   "language": "python",
   "name": "conda-root-py"
  },
  "language_info": {
   "codemirror_mode": {
    "name": "ipython",
    "version": 3
   },
   "file_extension": ".py",
   "mimetype": "text/x-python",
   "name": "python",
   "nbconvert_exporter": "python",
   "pygments_lexer": "ipython3",
   "version": "3.6.3"
  },
  "toc": {
   "base_numbering": 1,
   "nav_menu": {},
   "number_sections": true,
   "sideBar": true,
   "skip_h1_title": false,
   "title_cell": "Table of Contents",
   "title_sidebar": "Contents",
   "toc_cell": false,
   "toc_position": {},
   "toc_section_display": true,
   "toc_window_display": false
  }
 },
 "nbformat": 4,
 "nbformat_minor": 2
}
