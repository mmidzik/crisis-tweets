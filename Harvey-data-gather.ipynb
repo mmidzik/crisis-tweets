{
 "cells": [
  {
   "cell_type": "code",
   "execution_count": 1,
   "metadata": {},
   "outputs": [
    {
     "name": "stderr",
     "output_type": "stream",
     "text": [
      "/home/ubuntu/anaconda3/lib/python3.6/site-packages/matplotlib/__init__.py:1067: UserWarning: Duplicate key in file \"/home/ubuntu/.config/matplotlib/matplotlibrc\", line #2\n",
      "  (fname, cnt))\n",
      "/home/ubuntu/anaconda3/lib/python3.6/site-packages/matplotlib/__init__.py:1067: UserWarning: Duplicate key in file \"/home/ubuntu/.config/matplotlib/matplotlibrc\", line #3\n",
      "  (fname, cnt))\n"
     ]
    }
   ],
   "source": [
    "from __future__ import print_function\n",
    "import pandas as pd\n",
    "import requests\n",
    "from requests_oauthlib import OAuth1\n",
    "import cnfg\n",
    "import os\n",
    "import pickle\n",
    "import json"
   ]
  },
  {
   "cell_type": "markdown",
   "metadata": {},
   "source": [
    "# Twitter API pull"
   ]
  },
  {
   "cell_type": "code",
   "execution_count": 4,
   "metadata": {},
   "outputs": [],
   "source": [
    "config = cnfg.load(\".twitter_config\")\n",
    "\n",
    "oauth = OAuth1(config[\"consumer_key\"],\n",
    "               config[\"consumer_secret\"],\n",
    "               config[\"access_token\"],\n",
    "               config[\"access_token_secret\"])"
   ]
  },
  {
   "cell_type": "code",
   "execution_count": 6,
   "metadata": {},
   "outputs": [],
   "source": [
    "harvey_tweets = []\n",
    "with open(\"ISCRAM18_datasets/Harvey_tweet_ids.txt\") as myfile:\n",
    "    for line in myfile:\n",
    "        line = line.strip()\n",
    "        harvey_tweets.append(line)"
   ]
  },
  {
   "cell_type": "code",
   "execution_count": 7,
   "metadata": {},
   "outputs": [
    {
     "data": {
      "text/plain": [
       "6506303"
      ]
     },
     "execution_count": 7,
     "metadata": {},
     "output_type": "execute_result"
    }
   ],
   "source": [
    "len(harvey_tweets)"
   ]
  },
  {
   "cell_type": "code",
   "execution_count": null,
   "metadata": {},
   "outputs": [],
   "source": [
    "import json\n",
    "from pymongo import MongoClient\n",
    "\n",
    "client = MongoClient()\n",
    "db = client.twitter\n",
    "tweets_collection = db.tweets"
   ]
  },
  {
   "cell_type": "code",
   "execution_count": null,
   "metadata": {},
   "outputs": [],
   "source": [
    "#will take a long time\n",
    "with open(\"TweetsRetrievalTool-1.2/harvey-tweets-pull-api.txt\", \"w\") as f:\n",
    "    for tweet_id in harvey_tweets:\n",
    "    parameters = {\"id\": int(tweet_id)}\n",
    "    response = requests.get(\"https://api.twitter.com/1.1/statuses/show.json\",\n",
    "                            params = parameters,\n",
    "                            auth=oauth)\n",
    "    tweet = response.json()\n",
    "    f.write(tweet+\"\\n\")"
   ]
  },
  {
   "cell_type": "markdown",
   "metadata": {},
   "source": [
    "# Getting a new list when the pull breaks"
   ]
  },
  {
   "cell_type": "code",
   "execution_count": 2,
   "metadata": {},
   "outputs": [
    {
     "name": "stdout",
     "output_type": "stream",
     "text": [
      "['{\"created_at\":\"Wed Aug 30 15:39:31 +0000 2017\",\"id\":902918714307121152,\"id_str\":\"902918714307121152\",\"text\":\"I keep trolling twitter waiting to see @JJWatt update his awesome Hurricane Harvey fund total! #TexasForever #PrayersforTexas\",\"truncated\":false,\"entities\":{\"hashtags\":[{\"text\":\"TexasForever\",\"indices\":[95,108]},{\"text\":\"PrayersforTexas\",\"indices\":[109,125]}],\"symbols\":[],\"user_mentions\":[{\"screen_name\":\"JJWatt\",\"name\":\"JJ Watt\",\"id\":131948686,\"id_str\":\"131948686\",\"indices\":[39,46]}],\"urls\":[]},\"source\":\"<a href=\\\\\"http://twitter.com/download/iphone\\\\\" rel=\\\\\"nofollow\\\\\">Twitter for iPhone</a>\",\"in_reply_to_status_id\":null,\"in_reply_to_status_id_str\":null,\"in_reply_to_user_id\":null,\"in_reply_to_user_id_str\":null,\"in_reply_to_screen_name\":null,\"user\":{\"id\":38433315,\"id_str\":\"38433315\",\"name\":\"Brañdy Miller\",\"screen_name\":\"BrandyG_11\",\"location\":\"\",\"description\":\"✝️💑👶👶💙👿⚾️❤️💙🖤🏈\",\"url\":null,\"entities\":{\"description\":{\"urls\":[]}},\"protected\":false,\"followers_count\":131,\"friends_count\":970,\"listed_count\":1,\"created_at\":\"Thu May 07 13:49:42 +0000 2009\",\"favourites_count\":683,\"utc_offset\":null,\"time_zone\":null,\"geo_enabled\":true,\"verified\":false,\"statuses_count\":9806,\"lang\":\"en\",\"contributors_enabled\":false,\"is_translator\":false,\"is_translation_enabled\":false,\"profile_background_color\":\"330405\",\"profile_background_image_url\":\"http://pbs.twimg.com/profile_background_images/757497693/2536ec1ad4dd3f2b9295fd9953d95fce.png\",\"profile_background_image_url_https\":\"https://pbs.twimg.com/profile_background_images/757497693/2536ec1ad4dd3f2b9295fd9953d95fce.png\",\"profile_background_tile\":true,\"profile_image_url\":\"http://pbs.twimg.com/profile_images/953373158559666188/fVn4Vdjm_normal.jpg\",\"profile_image_url_https\":\"https://pbs.twimg.com/profile_images/953373158559666188/fVn4Vdjm_normal.jpg\",\"profile_banner_url\":\"https://pbs.twimg.com/profile_banners/38433315/1516136850\",\"profile_link_color\":\"1B95E0\",\"profile_sidebar_border_color\":\"378690\",\"profile_sidebar_fill_color\":\"47391B\",\"profile_text_color\":\"141106\",\"profile_use_background_image\":true,\"has_extended_profile\":true,\"default_profile\":false,\"default_profile_image\":false,\"following\":false,\"follow_request_sent\":false,\"notifications\":false,\"translator_type\":\"none\"},\"geo\":null,\"coordinates\":null,\"place\":null,\"contributors\":null,\"is_quote_status\":false,\"retweet_count\":0,\"favorite_count\":1,\"favorited\":false,\"retweeted\":false,\"lang\":\"en\"}\\n', '{\"created_at\":\"Wed Aug 30 15:39:31 +0000 2017\",\"id\":902918715263508480,\"id_str\":\"902918715263508480\",\"text\":\"RT @johncardillo: Terrorist sympathizing grifter is using #HurricaneHarvey to solicit donations for a far left radical organization. Possib…\",\"truncated\":false,\"entities\":{\"hashtags\":[{\"text\":\"HurricaneHarvey\",\"indices\":[58,74]}],\"symbols\":[],\"user_mentions\":[{\"screen_name\":\"johncardillo\",\"name\":\"John Cardillo\",\"id\":27995424,\"id_str\":\"27995424\",\"indices\":[3,16]}],\"urls\":[]},\"source\":\"<a href=\\\\\"http://twitter.com/download/iphone\\\\\" rel=\\\\\"nofollow\\\\\">Twitter for iPhone</a>\",\"in_reply_to_status_id\":null,\"in_reply_to_status_id_str\":null,\"in_reply_to_user_id\":null,\"in_reply_to_user_id_str\":null,\"in_reply_to_screen_name\":null,\"user\":{\"id\":2735601086,\"id_str\":\"2735601086\",\"name\":\"KAG! 🇺🇸Neus\",\"screen_name\":\"neus2100\",\"location\":\"\",\"description\":\"It is what it is! Wherever the mind goes, the body will follow! Very, very politically incorrect! #MAGA #KAG\",\"url\":null,\"entities\":{\"description\":{\"urls\":[]}},\"protected\":false,\"followers_count\":3561,\"friends_count\":3414,\"listed_count\":28,\"created_at\":\"Fri Aug 15 21:29:40 +0000 2014\",\"favourites_count\":32308,\"utc_offset\":null,\"time_zone\":null,\"geo_enabled\":true,\"verified\":false,\"statuses_count\":57060,\"lang\":\"en\",\"contributors_enabled\":false,\"is_translator\":false,\"is_translation_enabled\":false,\"profile_background_color\":\"C0DEED\",\"profile_background_image_url\":\"http://abs.twimg.com/images/themes/theme1/bg.png\",\"profile_background_image_url_https\":\"https://abs.twimg.com/images/themes/theme1/bg.png\",\"profile_background_tile\":false,\"profile_image_url\":\"http://pbs.twimg.com/profile_images/915063519866888192/a33F7dnR_normal.jpg\",\"profile_image_url_https\":\"https://pbs.twimg.com/profile_images/915063519866888192/a33F7dnR_normal.jpg\",\"profile_banner_url\":\"https://pbs.twimg.com/profile_banners/2735601086/1479483928\",\"profile_link_color\":\"1DA1F2\",\"profile_sidebar_border_color\":\"C0DEED\",\"profile_sidebar_fill_color\":\"DDEEF6\",\"profile_text_color\":\"333333\",\"profile_use_background_image\":true,\"has_extended_profile\":false,\"default_profile\":true,\"default_profile_image\":false,\"following\":false,\"follow_request_sent\":false,\"notifications\":false,\"translator_type\":\"none\"},\"geo\":null,\"coordinates\":null,\"place\":null,\"contributors\":null,\"retweeted_status\":{\"created_at\":\"Wed Aug 30 14:33:03 +0000 2017\",\"id\":902901988169539585,\"id_str\":\"902901988169539585\",\"text\":\"Terrorist sympathizing grifter is using #HurricaneHarvey to solicit donations for a far left radical organization.… https://t.co/gVbH8eKlmh\",\"truncated\":true,\"entities\":{\"hashtags\":[{\"text\":\"HurricaneHarvey\",\"indices\":[40,56]}],\"symbols\":[],\"user_mentions\":[],\"urls\":[{\"url\":\"https://t.co/gVbH8eKlmh\",\"expanded_url\":\"https://twitter.com/i/web/status/902901988169539585\",\"display_url\":\"twitter.com/i/web/status/9…\",\"indices\":[116,139]}]},\"source\":\"<a href=\\\\\"http://twitter.com\\\\\" rel=\\\\\"nofollow\\\\\">Twitter Web Client</a>\",\"in_reply_to_status_id\":null,\"in_reply_to_status_id_str\":null,\"in_reply_to_user_id\":null,\"in_reply_to_user_id_str\":null,\"in_reply_to_screen_name\":null,\"user\":{\"id\":27995424,\"id_str\":\"27995424\",\"name\":\"John Cardillo\",\"screen_name\":\"johncardillo\",\"location\":\"Florida, USA\",\"description\":\"That guy on ‘Off The Cuff - Declassified\\' @TheRebelTV and ‘America Talks Live’ @Newsmax TV. NYPD once upon a time. Opinion is mine. RT ≠ endorsement.\",\"url\":\"https://t.co/vlfMN9GSNg\",\"entities\":{\"url\":{\"urls\":[{\"url\":\"https://t.co/vlfMN9GSNg\",\"expanded_url\":\"http://www.johncardillo.com\",\"display_url\":\"johncardillo.com\",\"indices\":[0,23]}]},\"description\":{\"urls\":[]}},\"protected\":false,\"followers_count\":74671,\"friends_count\":999,\"listed_count\":1131,\"created_at\":\"Tue Mar 31 23:35:52 +0000 2009\",\"favourites_count\":30214,\"utc_offset\":null,\"time_zone\":null,\"geo_enabled\":true,\"verified\":true,\"statuses_count\":75566,\"lang\":\"en\",\"contributors_enabled\":false,\"is_translator\":false,\"is_translation_enabled\":false,\"profile_background_color\":\"131516\",\"profile_background_image_url\":\"http://abs.twimg.com/images/themes/theme14/bg.gif\",\"profile_background_image_url_https\":\"https://abs.twimg.com/images/themes/theme14/bg.gif\",\"profile_background_tile\":false,\"profile_image_url\":\"http://pbs.twimg.com/profile_images/989862799751958528/jLMARRuC_normal.jpg\",\"profile_image_url_https\":\"https://pbs.twimg.com/profile_images/989862799751958528/jLMARRuC_normal.jpg\",\"profile_banner_url\":\"https://pbs.twimg.com/profile_banners/27995424/1506901737\",\"profile_link_color\":\"1B95E0\",\"profile_sidebar_border_color\":\"000000\",\"profile_sidebar_fill_color\":\"EFEFEF\",\"profile_text_color\":\"333333\",\"profile_use_background_image\":true,\"has_extended_profile\":true,\"default_profile\":false,\"default_profile_image\":false,\"following\":false,\"follow_request_sent\":false,\"notifications\":false,\"translator_type\":\"none\"},\"geo\":null,\"coordinates\":null,\"place\":null,\"contributors\":null,\"is_quote_status\":true,\"quoted_status_id\":902391077046452224,\"quoted_status_id_str\":\"902391077046452224\",\"quoted_status\":{\"created_at\":\"Tue Aug 29 04:42:53 +0000 2017\",\"id\":902391077046452224,\"id_str\":\"902391077046452224\",\"text\":\"Donate to the #Harvey Hurricane Relief Fund. https://t.co/nkFbwgGWDH\",\"truncated\":false,\"entities\":{\"hashtags\":[{\"text\":\"Harvey\",\"indices\":[14,21]}],\"symbols\":[],\"user_mentions\":[],\"urls\":[{\"url\":\"https://t.co/nkFbwgGWDH\",\"expanded_url\":\"https://act.myngp.com/Forms/-3833118145683060992\",\"display_url\":\"act.myngp.com/Forms/-3833118…\",\"indices\":[45,68]}]},\"source\":\"<a href=\\\\\"http://twitter.com/download/iphone\\\\\" rel=\\\\\"nofollow\\\\\">Twitter for iPhone</a>\",\"in_reply_to_status_id\":null,\"in_reply_to_status_id_str\":null,\"in_reply_to_user_id\":null,\"in_reply_to_user_id_str\":null,\"in_reply_to_screen_name\":null,\"user\":{\"id\":27187343,\"id_str\":\"27187343\",\"name\":\"Linda Sarsour\",\"screen_name\":\"lsarsour\",\"location\":\"Brooklyn, NY\",\"description\":\"Palestinian-American-Muslim, born and raised Brooklyn, organizer, civil rights activist, every Islamophobe’s worst nightmare. Booking: Sarsour.Speaks@gmail.com\",\"url\":\"https://t.co/aPwnsHJeGj\",\"entities\":{\"url\":{\"urls\":[{\"url\":\"https://t.co/aPwnsHJeGj\",\"expanded_url\":\"http://www.lindasarsour.com\",\"display_url\":\"lindasarsour.com\",\"indices\":[0,23]}]},\"description\":{\"urls\":[]}},\"protected\":false,\"followers_count\":260365,\"friends_count\":2719,\"listed_count\":3332,\"created_at\":\"Sat Mar 28 05:42:36 +0000 2009\",\"favourites_count\":5801,\"utc_offset\":null,\"time_zone\":null,\"geo_enabled\":true,\"verified\":true,\"statuses_count\":90997,\"lang\":\"en\",\"contributors_enabled\":false,\"is_translator\":false,\"is_translation_enabled\":false,\"profile_background_color\":\"022330\",\"profile_background_image_url\":\"http://abs.twimg.com/images/themes/theme15/bg.png\",\"profile_background_image_url_https\":\"https://abs.twimg.com/images/themes/theme15/bg.png\",\"profile_background_tile\":false,\"profile_image_url\":\"http://pbs.twimg.com/profile_images/935867416831299584/7NAKpgTk_normal.jpg\",\"profile_image_url_https\":\"https://pbs.twimg.com/profile_images/935867416831299584/7NAKpgTk_normal.jpg\",\"profile_banner_url\":\"https://pbs.twimg.com/profile_banners/27187343/1511963499\",\"profile_link_color\":\"0084B4\",\"profile_sidebar_border_color\":\"A8C7F7\",\"profile_sidebar_fill_color\":\"C0DFEC\",\"profile_text_color\":\"333333\",\"profile_use_background_image\":true,\"has_extended_profile\":true,\"default_profile\":false,\"default_profile_image\":false,\"following\":false,\"follow_request_sent\":false,\"notifications\":false,\"translator_type\":\"none\"},\"geo\":null,\"coordinates\":null,\"place\":null,\"contributors\":null,\"is_quote_status\":false,\"retweet_count\":164,\"favorite_count\":200,\"favorited\":false,\"retweeted\":false,\"possibly_sensitive\":false,\"lang\":\"en\"},\"retweet_count\":428,\"favorite_count\":367,\"favorited\":false,\"retweeted\":false,\"possibly_sensitive\":false,\"lang\":\"en\"},\"is_quote_status\":true,\"quoted_status_id\":902391077046452224,\"quoted_status_id_str\":\"902391077046452224\",\"retweet_count\":428,\"favorite_count\":0,\"favorited\":false,\"retweeted\":false,\"lang\":\"en\"}\\n', '{\"created_at\":\"Wed Aug 30 15:39:30 +0000 2017\",\"id\":902918707965345794,\"id_str\":\"902918707965345794\",\"text\":\"RT @nh60dmook: HOUSTON WE GOTTA STICK TOGETHER #HarveyFlood #HurricaneHarvey https://t.co/9LNsdmhMKj\",\"truncated\":false,\"entities\":{\"hashtags\":[{\"text\":\"HarveyFlood\",\"indices\":[47,59]},{\"text\":\"HurricaneHarvey\",\"indices\":[60,76]}],\"symbols\":[],\"user_mentions\":[{\"screen_name\":\"nh60dmook\",\"name\":\"〽️ook\",\"id\":709246417089339392,\"id_str\":\"709246417089339392\",\"indices\":[3,13]}],\"urls\":[],\"media\":[{\"id\":902328019464765440,\"id_str\":\"902328019464765440\",\"indices\":[77,100],\"media_url\":\"http://pbs.twimg.com/ext_tw_video_thumb/902328019464765440/pu/img/ygNMRmiHpxlbRaOb.jpg\",\"media_url_https\":\"https://pbs.twimg.com/ext_tw_video_thumb/902328019464765440/pu/img/ygNMRmiHpxlbRaOb.jpg\",\"url\":\"https://t.co/9LNsdmhMKj\",\"display_url\":\"pic.twitter.com/9LNsdmhMKj\",\"expanded_url\":\"https://twitter.com/nh60dmook/status/902328764834697217/video/1\",\"type\":\"photo\",\"sizes\":{\"thumb\":{\"w\":150,\"h\":150,\"resize\":\"crop\"},\"small\":{\"w\":680,\"h\":680,\"resize\":\"fit\"},\"medium\":{\"w\":720,\"h\":720,\"resize\":\"fit\"},\"large\":{\"w\":720,\"h\":720,\"resize\":\"fit\"}},\"source_status_id\":902328764834697217,\"source_status_id_str\":\"902328764834697217\",\"source_user_id\":709246417089339392,\"source_user_id_str\":\"709246417089339392\"}]},\"extended_entities\":{\"media\":[{\"id\":902328019464765440,\"id_str\":\"902328019464765440\",\"indices\":[77,100],\"media_url\":\"http://pbs.twimg.com/ext_tw_video_thumb/902328019464765440/pu/img/ygNMRmiHpxlbRaOb.jpg\",\"media_url_https\":\"https://pbs.twimg.com/ext_tw_video_thumb/902328019464765440/pu/img/ygNMRmiHpxlbRaOb.jpg\",\"url\":\"https://t.co/9LNsdmhMKj\",\"display_url\":\"pic.twitter.com/9LNsdmhMKj\",\"expanded_url\":\"https://twitter.com/nh60dmook/status/902328764834697217/video/1\",\"type\":\"video\",\"sizes\":{\"thumb\":{\"w\":150,\"h\":150,\"resize\":\"crop\"},\"small\":{\"w\":680,\"h\":680,\"resize\":\"fit\"},\"medium\":{\"w\":720,\"h\":720,\"resize\":\"fit\"},\"large\":{\"w\":720,\"h\":720,\"resize\":\"fit\"}},\"source_status_id\":902328764834697217,\"source_status_id_str\":\"902328764834697217\",\"source_user_id\":709246417089339392,\"source_user_id_str\":\"709246417089339392\",\"video_info\":{\"aspect_ratio\":[1,1],\"duration_millis\":26427,\"variants\":[{\"bitrate\":1280000,\"content_type\":\"video/mp4\",\"url\":\"https://video.twimg.com/ext_tw_video/902328019464765440/pu/vid/720x720/QZrYzuk-wfsK2TjE.mp4\"},{\"content_type\":\"application/x-mpegURL\",\"url\":\"https://video.twimg.com/ext_tw_video/902328019464765440/pu/pl/zpOtsxxH7skFq60N.m3u8\"},{\"bitrate\":256000,\"content_type\":\"video/mp4\",\"url\":\"https://video.twimg.com/ext_tw_video/902328019464765440/pu/vid/240x240/Y9XVgJv1t742CgfH.mp4\"},{\"bitrate\":832000,\"content_type\":\"video/mp4\",\"url\":\"https://video.twimg.com/ext_tw_video/902328019464765440/pu/vid/480x480/3HYSeiWE-SdjhheP.mp4\"}]},\"additional_media_info\":{\"monetizable\":false,\"source_user\":{\"id\":709246417089339392,\"id_str\":\"709246417089339392\",\"name\":\"〽️ook\",\"screen_name\":\"nh60dmook\",\"location\":\"Houston, TX\",\"description\":\"Booking: Nh60d.Mook@icloud.com R.I.P1️⃣8️⃣1️⃣Los🙏🏾😇\",\"url\":\"https://t.co/C2IbzoFW3M\",\"entities\":{\"url\":{\"urls\":[{\"url\":\"https://t.co/C2IbzoFW3M\",\"expanded_url\":\"https://youtu.be/e-Xz71zr4p8\",\"display_url\":\"youtu.be/e-Xz71zr4p8\",\"indices\":[0,23]}]},\"description\":{\"urls\":[]}},\"protected\":false,\"followers_count\":926,\"friends_count\":419,\"listed_count\":29,\"created_at\":\"Mon Mar 14 05:14:57 +0000 2016\",\"favourites_count\":2239,\"utc_offset\":null,\"time_zone\":null,\"geo_enabled\":false,\"verified\":false,\"statuses_count\":4149,\"lang\":\"en\",\"contributors_enabled\":false,\"is_translator\":false,\"is_translation_enabled\":false,\"profile_background_color\":\"F5F8FA\",\"profile_background_image_url\":null,\"profile_background_image_url_https\":null,\"profile_background_tile\":false,\"profile_image_url\":\"http://pbs.twimg.com/profile_images/988843201707560960/VqDUE5jz_normal.jpg\",\"profile_image_url_https\":\"https://pbs.twimg.com/profile_images/988843201707560960/VqDUE5jz_normal.jpg\",\"profile_banner_url\":\"https://pbs.twimg.com/profile_banners/709246417089339392/1513893243\",\"profile_link_color\":\"1DA1F2\",\"profile_sidebar_border_color\":\"C0DEED\",\"profile_sidebar_fill_color\":\"DDEEF6\",\"profile_text_color\":\"333333\",\"profile_use_background_image\":true,\"has_extended_profile\":true,\"default_profile\":true,\"default_profile_image\":false,\"following\":false,\"follow_request_sent\":false,\"notifications\":false,\"translator_type\":\"none\"}}}]},\"source\":\"<a href=\\\\\"http://twitter.com/download/iphone\\\\\" rel=\\\\\"nofollow\\\\\">Twitter for iPhone</a>\",\"in_reply_to_status_id\":null,\"in_reply_to_status_id_str\":null,\"in_reply_to_user_id\":null,\"in_reply_to_user_id_str\":null,\"in_reply_to_screen_name\":null,\"user\":{\"id\":14380474,\"id_str\":\"14380474\",\"name\":\"CanadaDude 🏳️\\u200d🌈\",\"screen_name\":\"darcygauthier\",\"location\":\"Canada\",\"description\":\"All tweets are IMO. I am direct & will not apologize for who I am. I am a grandfather, father, husband, lover, friend, & Canadian!  WE ALL MATTER #TheResistance\",\"url\":null,\"entities\":{\"description\":{\"urls\":[]}},\"protected\":false,\"followers_count\":134,\"friends_count\":405,\"listed_count\":4,\"created_at\":\"Mon Apr 14 02:50:15 +0000 2008\",\"favourites_count\":2497,\"utc_offset\":null,\"time_zone\":null,\"geo_enabled\":true,\"verified\":false,\"statuses_count\":4297,\"lang\":\"en\",\"contributors_enabled\":false,\"is_translator\":false,\"is_translation_enabled\":false,\"profile_background_color\":\"FFF04D\",\"profile_background_image_url\":\"http://abs.twimg.com/images/themes/theme19/bg.gif\",\"profile_background_image_url_https\":\"https://abs.twimg.com/images/themes/theme19/bg.gif\",\"profile_background_tile\":false,\"profile_image_url\":\"http://pbs.twimg.com/profile_images/936804667517845505/9X5KdEFs_normal.jpg\",\"profile_image_url_https\":\"https://pbs.twimg.com/profile_images/936804667517845505/9X5KdEFs_normal.jpg\",\"profile_banner_url\":\"https://pbs.twimg.com/profile_banners/14380474/1512186614\",\"profile_link_color\":\"0099CC\",\"profile_sidebar_border_color\":\"FFF8AD\",\"profile_sidebar_fill_color\":\"F6FFD1\",\"profile_text_color\":\"333333\",\"profile_use_background_image\":true,\"has_extended_profile\":true,\"default_profile\":false,\"default_profile_image\":false,\"following\":false,\"follow_request_sent\":false,\"notifications\":false,\"translator_type\":\"none\"},\"geo\":null,\"coordinates\":null,\"place\":null,\"contributors\":null,\"retweeted_status\":{\"created_at\":\"Tue Aug 29 00:35:16 +0000 2017\",\"id\":902328764834697217,\"id_str\":\"902328764834697217\",\"text\":\"HOUSTON WE GOTTA STICK TOGETHER #HarveyFlood #HurricaneHarvey https://t.co/9LNsdmhMKj\",\"truncated\":false,\"entities\":{\"hashtags\":[{\"text\":\"HarveyFlood\",\"indices\":[32,44]},{\"text\":\"HurricaneHarvey\",\"indices\":[45,61]}],\"symbols\":[],\"user_mentions\":[],\"urls\":[],\"media\":[{\"id\":902328019464765440,\"id_str\":\"902328019464765440\",\"indices\":[62,85],\"media_url\":\"http://pbs.twimg.com/ext_tw_video_thumb/902328019464765440/pu/img/ygNMRmiHpxlbRaOb.jpg\",\"media_url_https\":\"https://pbs.twimg.com/ext_tw_video_thumb/902328019464765440/pu/img/ygNMRmiHpxlbRaOb.jpg\",\"url\":\"https://t.co/9LNsdmhMKj\",\"display_url\":\"pic.twitter.com/9LNsdmhMKj\",\"expanded_url\":\"https://twitter.com/nh60dmook/status/902328764834697217/video/1\",\"type\":\"photo\",\"sizes\":{\"thumb\":{\"w\":150,\"h\":150,\"resize\":\"crop\"},\"small\":{\"w\":680,\"h\":680,\"resize\":\"fit\"},\"medium\":{\"w\":720,\"h\":720,\"resize\":\"fit\"},\"large\":{\"w\":720,\"h\":720,\"resize\":\"fit\"}}}]},\"extended_entities\":{\"media\":[{\"id\":902328019464765440,\"id_str\":\"902328019464765440\",\"indices\":[62,85],\"media_url\":\"http://pbs.twimg.com/ext_tw_video_thumb/902328019464765440/pu/img/ygNMRmiHpxlbRaOb.jpg\",\"media_url_https\":\"https://pbs.twimg.com/ext_tw_video_thumb/902328019464765440/pu/img/ygNMRmiHpxlbRaOb.jpg\",\"url\":\"https://t.co/9LNsdmhMKj\",\"display_url\":\"pic.twitter.com/9LNsdmhMKj\",\"expanded_url\":\"https://twitter.com/nh60dmook/status/902328764834697217/video/1\",\"type\":\"video\",\"sizes\":{\"thumb\":{\"w\":150,\"h\":150,\"resize\":\"crop\"},\"small\":{\"w\":680,\"h\":680,\"resize\":\"fit\"},\"medium\":{\"w\":720,\"h\":720,\"resize\":\"fit\"},\"large\":{\"w\":720,\"h\":720,\"resize\":\"fit\"}},\"video_info\":{\"aspect_ratio\":[1,1],\"duration_millis\":26427,\"variants\":[{\"bitrate\":1280000,\"content_type\":\"video/mp4\",\"url\":\"https://video.twimg.com/ext_tw_video/902328019464765440/pu/vid/720x720/QZrYzuk-wfsK2TjE.mp4\"},{\"content_type\":\"application/x-mpegURL\",\"url\":\"https://video.twimg.com/ext_tw_video/902328019464765440/pu/pl/zpOtsxxH7skFq60N.m3u8\"},{\"bitrate\":256000,\"content_type\":\"video/mp4\",\"url\":\"https://video.twimg.com/ext_tw_video/902328019464765440/pu/vid/240x240/Y9XVgJv1t742CgfH.mp4\"},{\"bitrate\":832000,\"content_type\":\"video/mp4\",\"url\":\"https://video.twimg.com/ext_tw_video/902328019464765440/pu/vid/480x480/3HYSeiWE-SdjhheP.mp4\"}]},\"additional_media_info\":{\"monetizable\":false}}]},\"source\":\"<a href=\\\\\"http://twitter.com/download/iphone\\\\\" rel=\\\\\"nofollow\\\\\">Twitter for iPhone</a>\",\"in_reply_to_status_id\":null,\"in_reply_to_status_id_str\":null,\"in_reply_to_user_id\":null,\"in_reply_to_user_id_str\":null,\"in_reply_to_screen_name\":null,\"user\":{\"id\":709246417089339392,\"id_str\":\"709246417089339392\",\"name\":\"〽️ook\",\"screen_name\":\"nh60dmook\",\"location\":\"Houston, TX\",\"description\":\"Booking: Nh60d.Mook@icloud.com R.I.P1️⃣8️⃣1️⃣Los🙏🏾😇\",\"url\":\"https://t.co/C2IbzoFW3M\",\"entities\":{\"url\":{\"urls\":[{\"url\":\"https://t.co/C2IbzoFW3M\",\"expanded_url\":\"https://youtu.be/e-Xz71zr4p8\",\"display_url\":\"youtu.be/e-Xz71zr4p8\",\"indices\":[0,23]}]},\"description\":{\"urls\":[]}},\"protected\":false,\"followers_count\":926,\"friends_count\":419,\"listed_count\":29,\"created_at\":\"Mon Mar 14 05:14:57 +0000 2016\",\"favourites_count\":2239,\"utc_offset\":null,\"time_zone\":null,\"geo_enabled\":false,\"verified\":false,\"statuses_count\":4149,\"lang\":\"en\",\"contributors_enabled\":false,\"is_translator\":false,\"is_translation_enabled\":false,\"profile_background_color\":\"F5F8FA\",\"profile_background_image_url\":null,\"profile_background_image_url_https\":null,\"profile_background_tile\":false,\"profile_image_url\":\"http://pbs.twimg.com/profile_images/988843201707560960/VqDUE5jz_normal.jpg\",\"profile_image_url_https\":\"https://pbs.twimg.com/profile_images/988843201707560960/VqDUE5jz_normal.jpg\",\"profile_banner_url\":\"https://pbs.twimg.com/profile_banners/709246417089339392/1513893243\",\"profile_link_color\":\"1DA1F2\",\"profile_sidebar_border_color\":\"C0DEED\",\"profile_sidebar_fill_color\":\"DDEEF6\",\"profile_text_color\":\"333333\",\"profile_use_background_image\":true,\"has_extended_profile\":true,\"default_profile\":true,\"default_profile_image\":false,\"following\":false,\"follow_request_sent\":false,\"notifications\":false,\"translator_type\":\"none\"},\"geo\":null,\"coordinates\":null,\"place\":null,\"contributors\":null,\"is_quote_status\":false,\"retweet_count\":41064,\"favorite_count\":95155,\"favorited\":false,\"retweeted\":false,\"possibly_sensitive\":false,\"lang\":\"en\"},\"is_quote_status\":false,\"retweet_count\":41064,\"favorite_count\":0,\"favorited\":false,\"retweeted\":false,\"possibly_sensitive\":false,\"lang\":\"en\"}\\n']\n"
     ]
    }
   ],
   "source": [
    "with open(\"TweetsRetrievalTool-1.2/harvey_tweets_4-pull.txt\") as myfile:\n",
    "    head = [next(myfile) for x in range(3)]\n",
    "print( head)"
   ]
  },
  {
   "cell_type": "code",
   "execution_count": 4,
   "metadata": {},
   "outputs": [],
   "source": [
    "tweets4 = []\n",
    "with open(\"TweetsRetrievalTool-1.2/harvey_tweets_4-pull.txt\") as myfile:\n",
    "    for line in myfile:\n",
    "        line = line.strip()\n",
    "        line_dict = json.loads(line)\n",
    "        tweets4.append(line_dict)"
   ]
  },
  {
   "cell_type": "code",
   "execution_count": 5,
   "metadata": {},
   "outputs": [
    {
     "data": {
      "text/plain": [
       "279188.5"
      ]
     },
     "execution_count": 5,
     "metadata": {},
     "output_type": "execute_result"
    }
   ],
   "source": [
    "len(tweets4)/2"
   ]
  },
  {
   "cell_type": "code",
   "execution_count": 6,
   "metadata": {},
   "outputs": [],
   "source": [
    "tweets4a = tweets4[:279188]"
   ]
  },
  {
   "cell_type": "code",
   "execution_count": 7,
   "metadata": {},
   "outputs": [],
   "source": [
    "tweets4b = tweets4[279188:]"
   ]
  },
  {
   "cell_type": "code",
   "execution_count": 8,
   "metadata": {},
   "outputs": [],
   "source": [
    "pickle.dump(tweets4a, open( \"harvey-tweets4a-pull.pkl\", \"wb\" ) )"
   ]
  },
  {
   "cell_type": "code",
   "execution_count": 24,
   "metadata": {},
   "outputs": [],
   "source": [
    "pickle.dump(tweets4b, open( \"harvey-tweets4b-pull.pkl\", \"wb\" ) )"
   ]
  },
  {
   "cell_type": "code",
   "execution_count": 14,
   "metadata": {},
   "outputs": [
    {
     "data": {
      "text/plain": [
       "2341838"
      ]
     },
     "execution_count": 14,
     "metadata": {},
     "output_type": "execute_result"
    }
   ],
   "source": [
    "harvey_tweets.index(str(902959238011596802))"
   ]
  },
  {
   "cell_type": "code",
   "execution_count": 15,
   "metadata": {},
   "outputs": [],
   "source": [
    "harvey_tweets_5 = harvey_tweets[2341838:]"
   ]
  },
  {
   "cell_type": "code",
   "execution_count": 16,
   "metadata": {},
   "outputs": [
    {
     "data": {
      "text/plain": [
       "4164465"
      ]
     },
     "execution_count": 16,
     "metadata": {},
     "output_type": "execute_result"
    }
   ],
   "source": [
    "len(harvey_tweets_5)"
   ]
  },
  {
   "cell_type": "code",
   "execution_count": 17,
   "metadata": {},
   "outputs": [],
   "source": [
    "with open(\"ISCRAM18_datasets/harvey_tweets_5.txt\", \"w\") as f:\n",
    "    for i in harvey_tweets_5:\n",
    "        f.write(i+\"\\n\")"
   ]
  }
 ],
 "metadata": {
  "kernelspec": {
   "display_name": "Environment (conda_anaconda3)",
   "language": "python",
   "name": "conda_anaconda3"
  },
  "language_info": {
   "codemirror_mode": {
    "name": "ipython",
    "version": 3
   },
   "file_extension": ".py",
   "mimetype": "text/x-python",
   "name": "python",
   "nbconvert_exporter": "python",
   "pygments_lexer": "ipython3",
   "version": "3.6.4"
  },
  "toc": {
   "base_numbering": 1,
   "nav_menu": {},
   "number_sections": true,
   "sideBar": true,
   "skip_h1_title": false,
   "title_cell": "Table of Contents",
   "title_sidebar": "Contents",
   "toc_cell": false,
   "toc_position": {},
   "toc_section_display": true,
   "toc_window_display": false
  }
 },
 "nbformat": 4,
 "nbformat_minor": 2
}
