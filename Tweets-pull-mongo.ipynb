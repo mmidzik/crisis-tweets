{
 "cells": [
  {
   "cell_type": "code",
   "execution_count": 331,
   "metadata": {},
   "outputs": [],
   "source": [
    "from __future__ import print_function\n",
    "import pandas as pd\n",
    "import requests\n",
    "from requests_oauthlib import OAuth1\n",
    "import cnfg\n",
    "import os"
   ]
  },
  {
   "cell_type": "code",
   "execution_count": 332,
   "metadata": {},
   "outputs": [],
   "source": [
    "config = cnfg.load(\".twitter_config\")\n",
    "\n",
    "oauth = OAuth1(config[\"consumer_key\"],\n",
    "               config[\"consumer_secret\"],\n",
    "               config[\"access_token\"],\n",
    "               config[\"access_token_secret\"])"
   ]
  },
  {
   "cell_type": "code",
   "execution_count": 487,
   "metadata": {},
   "outputs": [],
   "source": [
    "harvey_tweets = []\n",
    "with open(\"ISCRAM18_datasets/Harvey_tweet_ids.txt\") as myfile:\n",
    "    for line in myfile:\n",
    "        line = line.strip()\n",
    "        harvey_tweets.append(line)"
   ]
  },
  {
   "cell_type": "code",
   "execution_count": 488,
   "metadata": {},
   "outputs": [
    {
     "data": {
      "text/plain": [
       "6506304"
      ]
     },
     "execution_count": 488,
     "metadata": {},
     "output_type": "execute_result"
    }
   ],
   "source": [
    "len(harvey_tweets)"
   ]
  },
  {
   "cell_type": "markdown",
   "metadata": {},
   "source": [
    "# Pull Harvey data subset\n",
    "- Get tweet jsons\n",
    "- create dictionary w/ desired features\n",
    "- add to mongo db & crate df"
   ]
  },
  {
   "cell_type": "code",
   "execution_count": 489,
   "metadata": {},
   "outputs": [],
   "source": [
    "import json\n",
    "from pymongo import MongoClient\n",
    "\n",
    "client = MongoClient()\n",
    "db = client.twitter\n",
    "tweets_collection = db.tweets"
   ]
  },
  {
   "cell_type": "code",
   "execution_count": 510,
   "metadata": {},
   "outputs": [],
   "source": [
    "def get_tweet_metadata(tweet,meta_dict):\n",
    "    meta_dict['storm'] = 'Harvey'\n",
    "    try: meta_dict['id']  = tweet['id']\n",
    "    except: pass\n",
    "    try: meta_dict['user_id']  = tweet['entities']['user_mentions'][0]['id']\n",
    "    except: pass\n",
    "    try: meta_dict['user_name']  = tweet['entities']['user_mentions'][0]['name']\n",
    "    except: pass\n",
    "    try: meta_dict['datetime'] = tweet['created_at']\n",
    "    except: pass\n",
    "    try: meta_dict['media'] = tweet['entities']['media'][0]['media_url']\n",
    "    except: pass\n",
    "    try: meta_dict['media_type'] = tweet['extended_entities']['media'][0]['type']\n",
    "    except: pass\n",
    "    try: meta_dict['coords'] = tweet['geo']['coordinates']\n",
    "    except: pass\n",
    "    try: meta_dict['text'] = tweet['text']\n",
    "    except: pass\n",
    "    try: \n",
    "        hashtags_text = tweet['entities']['hashtags']\n",
    "        hashtags = []\n",
    "        for i in hashtags_text:\n",
    "            hashtags.append(i['text'])\n",
    "        meta_dict['hashtags'] = hashtags\n",
    "    except: pass\n",
    "    try: meta_dict['followers'] = tweet['extended_entities']['media'][0]['additional_media_info']['source_user']['followers_count']\n",
    "    except: pass\n",
    "    try: meta_dict['following'] = tweet['extended_entities']['media'][0]['additional_media_info']['source_user']['friends_count']\n",
    "    except: pass\n",
    "    try: meta_dict['user_location'] = tweet['extended_entities']['media'][0]['additional_media_info']['source_user']['location']\n",
    "    except: pass\n",
    "    try: meta_dict['retweets'] = tweet['retweet_count']\n",
    "    except: pass"
   ]
  },
  {
   "cell_type": "code",
   "execution_count": 506,
   "metadata": {},
   "outputs": [],
   "source": [
    "for tweet_id in harvey_tweets:\n",
    "    meta_dict = {}\n",
    "    parameters = {\"id\": int(tweet_id)}\n",
    "    response = requests.get(\"https://api.twitter.com/1.1/statuses/show.json\",\n",
    "                            params = parameters,\n",
    "                            auth=oauth)\n",
    "    tweet = response.json()\n",
    "    get_tweet_metadata(tweet,meta_dict)\n",
    "    if len(meta_dict)>0:\n",
    "        tweets_collection.insert_one(meta_dict)\n",
    "    "
   ]
  },
  {
   "cell_type": "code",
   "execution_count": 507,
   "metadata": {},
   "outputs": [],
   "source": [
    "tweets_dict = []\n",
    "for tweet in tweets_collection.find():\n",
    "    tweets_dict.append(tweet)"
   ]
  },
  {
   "cell_type": "code",
   "execution_count": 509,
   "metadata": {},
   "outputs": [
    {
     "data": {
      "text/html": [
       "<div>\n",
       "<style scoped>\n",
       "    .dataframe tbody tr th:only-of-type {\n",
       "        vertical-align: middle;\n",
       "    }\n",
       "\n",
       "    .dataframe tbody tr th {\n",
       "        vertical-align: top;\n",
       "    }\n",
       "\n",
       "    .dataframe thead th {\n",
       "        text-align: right;\n",
       "    }\n",
       "</style>\n",
       "<table border=\"1\" class=\"dataframe\">\n",
       "  <thead>\n",
       "    <tr style=\"text-align: right;\">\n",
       "      <th></th>\n",
       "      <th>_id</th>\n",
       "      <th>coords</th>\n",
       "      <th>datetime</th>\n",
       "      <th>hashtags</th>\n",
       "      <th>id</th>\n",
       "      <th>media</th>\n",
       "      <th>media_type</th>\n",
       "      <th>retweets</th>\n",
       "      <th>text</th>\n",
       "      <th>user_id</th>\n",
       "      <th>user_name</th>\n",
       "    </tr>\n",
       "  </thead>\n",
       "  <tbody>\n",
       "    <tr>\n",
       "      <th>0</th>\n",
       "      <td>5b0613d6a54d750dbd5579d1</td>\n",
       "      <td>[29.73824392, -95.49140669]</td>\n",
       "      <td>Wed Aug 30 23:34:42 +0000 2017</td>\n",
       "      <td>[Houston, Harvey]</td>\n",
       "      <td>903038298880229376</td>\n",
       "      <td>NaN</td>\n",
       "      <td>NaN</td>\n",
       "      <td>5</td>\n",
       "      <td>Very nice thing to do for those that risk thei...</td>\n",
       "      <td>NaN</td>\n",
       "      <td>NaN</td>\n",
       "    </tr>\n",
       "    <tr>\n",
       "      <th>1</th>\n",
       "      <td>5b0613d6a54d750dbd5579d2</td>\n",
       "      <td>NaN</td>\n",
       "      <td>Sun Aug 27 03:22:22 +0000 2017</td>\n",
       "      <td>[Harvey]</td>\n",
       "      <td>901646039555256320</td>\n",
       "      <td>http://pbs.twimg.com/media/DING35qXcAEgLUX.jpg</td>\n",
       "      <td>photo</td>\n",
       "      <td>7</td>\n",
       "      <td>RT @scribemark: 1 day in and #Harvey proving t...</td>\n",
       "      <td>1.569257e+07</td>\n",
       "      <td>Mark Hollis</td>\n",
       "    </tr>\n",
       "    <tr>\n",
       "      <th>2</th>\n",
       "      <td>5b0613d6a54d750dbd5579d3</td>\n",
       "      <td>NaN</td>\n",
       "      <td>Sun Aug 27 03:22:22 +0000 2017</td>\n",
       "      <td>[]</td>\n",
       "      <td>901646039886708736</td>\n",
       "      <td>NaN</td>\n",
       "      <td>NaN</td>\n",
       "      <td>22</td>\n",
       "      <td>RT @earthlydevon: Bro like wtf you want me to ...</td>\n",
       "      <td>7.352977e+17</td>\n",
       "      <td>🌍</td>\n",
       "    </tr>\n",
       "    <tr>\n",
       "      <th>3</th>\n",
       "      <td>5b0613d6a54d750dbd5579d4</td>\n",
       "      <td>NaN</td>\n",
       "      <td>Sun Aug 27 03:22:22 +0000 2017</td>\n",
       "      <td>[Harvey, houwx, txwx]</td>\n",
       "      <td>901646039957962753</td>\n",
       "      <td>http://pbs.twimg.com/media/DIL5txPV4AAY2Yu.jpg</td>\n",
       "      <td>photo</td>\n",
       "      <td>597</td>\n",
       "      <td>RT @fema: Texas: If you're under a tornado war...</td>\n",
       "      <td>1.666908e+07</td>\n",
       "      <td>FEMA</td>\n",
       "    </tr>\n",
       "  </tbody>\n",
       "</table>\n",
       "</div>"
      ],
      "text/plain": [
       "                        _id                       coords  \\\n",
       "0  5b0613d6a54d750dbd5579d1  [29.73824392, -95.49140669]   \n",
       "1  5b0613d6a54d750dbd5579d2                          NaN   \n",
       "2  5b0613d6a54d750dbd5579d3                          NaN   \n",
       "3  5b0613d6a54d750dbd5579d4                          NaN   \n",
       "\n",
       "                         datetime               hashtags                  id  \\\n",
       "0  Wed Aug 30 23:34:42 +0000 2017      [Houston, Harvey]  903038298880229376   \n",
       "1  Sun Aug 27 03:22:22 +0000 2017               [Harvey]  901646039555256320   \n",
       "2  Sun Aug 27 03:22:22 +0000 2017                     []  901646039886708736   \n",
       "3  Sun Aug 27 03:22:22 +0000 2017  [Harvey, houwx, txwx]  901646039957962753   \n",
       "\n",
       "                                            media media_type  retweets  \\\n",
       "0                                             NaN        NaN         5   \n",
       "1  http://pbs.twimg.com/media/DING35qXcAEgLUX.jpg      photo         7   \n",
       "2                                             NaN        NaN        22   \n",
       "3  http://pbs.twimg.com/media/DIL5txPV4AAY2Yu.jpg      photo       597   \n",
       "\n",
       "                                                text       user_id  \\\n",
       "0  Very nice thing to do for those that risk thei...           NaN   \n",
       "1  RT @scribemark: 1 day in and #Harvey proving t...  1.569257e+07   \n",
       "2  RT @earthlydevon: Bro like wtf you want me to ...  7.352977e+17   \n",
       "3  RT @fema: Texas: If you're under a tornado war...  1.666908e+07   \n",
       "\n",
       "     user_name  \n",
       "0          NaN  \n",
       "1  Mark Hollis  \n",
       "2            🌍  \n",
       "3         FEMA  "
      ]
     },
     "execution_count": 509,
     "metadata": {},
     "output_type": "execute_result"
    }
   ],
   "source": [
    "df = pd.DataFrame(tweets_dict)\n",
    "df"
   ]
  },
  {
   "cell_type": "code",
   "execution_count": 503,
   "metadata": {},
   "outputs": [
    {
     "data": {
      "text/html": [
       "<div>\n",
       "<style scoped>\n",
       "    .dataframe tbody tr th:only-of-type {\n",
       "        vertical-align: middle;\n",
       "    }\n",
       "\n",
       "    .dataframe tbody tr th {\n",
       "        vertical-align: top;\n",
       "    }\n",
       "\n",
       "    .dataframe thead th {\n",
       "        text-align: right;\n",
       "    }\n",
       "</style>\n",
       "<table border=\"1\" class=\"dataframe\">\n",
       "  <thead>\n",
       "    <tr style=\"text-align: right;\">\n",
       "      <th></th>\n",
       "      <th>_id</th>\n",
       "      <th>coords</th>\n",
       "      <th>datetime</th>\n",
       "      <th>followers</th>\n",
       "      <th>following</th>\n",
       "      <th>hashtags</th>\n",
       "      <th>id</th>\n",
       "      <th>media</th>\n",
       "      <th>media_type</th>\n",
       "      <th>retweets</th>\n",
       "      <th>text</th>\n",
       "      <th>user_id</th>\n",
       "      <th>user_location</th>\n",
       "      <th>user_name</th>\n",
       "    </tr>\n",
       "  </thead>\n",
       "  <tbody>\n",
       "  </tbody>\n",
       "</table>\n",
       "</div>"
      ],
      "text/plain": [
       "Empty DataFrame\n",
       "Columns: [_id, coords, datetime, followers, following, hashtags, id, media, media_type, retweets, text, user_id, user_location, user_name]\n",
       "Index: []"
      ]
     },
     "execution_count": 503,
     "metadata": {},
     "output_type": "execute_result"
    }
   ],
   "source": [
    "df[df['_id'] == 903038298880229376]"
   ]
  },
  {
   "cell_type": "code",
   "execution_count": 475,
   "metadata": {},
   "outputs": [],
   "source": [
    "# parameters = {\"geocode\":'37.781157,-122.398720,1mi'}\n",
    "# response = requests.get(\"https://api.twitter.com/1.1/search/tweets.json\",\n",
    "#                         params = parameters,\n",
    "#                         auth=oauth)\n",
    "# print(response.json())"
   ]
  },
  {
   "cell_type": "code",
   "execution_count": 474,
   "metadata": {},
   "outputs": [],
   "source": [
    "# parameters = {\"id\": 903038298880229376}\n",
    "# response = requests.get(\"https://api.twitter.com/1.1/statuses/show.json\",\n",
    "#                         params = parameters,\n",
    "#                         auth=oauth)\n",
    "# tweet = response.json()\n",
    "# print(tweet)"
   ]
  },
  {
   "cell_type": "code",
   "execution_count": 444,
   "metadata": {},
   "outputs": [],
   "source": [
    "import time\n",
    "from datetime import time\n",
    "from datetime import datetime\n",
    "import re"
   ]
  },
  {
   "cell_type": "code",
   "execution_count": 439,
   "metadata": {},
   "outputs": [
    {
     "data": {
      "text/plain": [
       "'Sun Aug 27 03:22:22 2017'"
      ]
     },
     "execution_count": 439,
     "metadata": {},
     "output_type": "execute_result"
    }
   ],
   "source": [
    "date = df['datetime'][1]\n",
    "date = re.sub('\\+0000 ', '', date)\n",
    "date"
   ]
  },
  {
   "cell_type": "code",
   "execution_count": 445,
   "metadata": {},
   "outputs": [
    {
     "data": {
      "text/plain": [
       "datetime.datetime(2017, 8, 27, 3, 22, 22)"
      ]
     },
     "execution_count": 445,
     "metadata": {},
     "output_type": "execute_result"
    }
   ],
   "source": [
    "datetime.strptime(date, \"%a %b %d %X %Y\")  "
   ]
  },
  {
   "cell_type": "code",
   "execution_count": 505,
   "metadata": {},
   "outputs": [
    {
     "data": {
      "text/plain": [
       "{'nIndexesWas': 1, 'ns': 'twitter.tweets', 'ok': 1.0}"
      ]
     },
     "execution_count": 505,
     "metadata": {},
     "output_type": "execute_result"
    }
   ],
   "source": [
    "db.drop_collection(tweets_collection)"
   ]
  },
  {
   "cell_type": "code",
   "execution_count": null,
   "metadata": {},
   "outputs": [],
   "source": []
  }
 ],
 "metadata": {
  "kernelspec": {
   "display_name": "Python [conda root]",
   "language": "python",
   "name": "conda-root-py"
  },
  "language_info": {
   "codemirror_mode": {
    "name": "ipython",
    "version": 3
   },
   "file_extension": ".py",
   "mimetype": "text/x-python",
   "name": "python",
   "nbconvert_exporter": "python",
   "pygments_lexer": "ipython3",
   "version": "3.6.3"
  },
  "toc": {
   "base_numbering": 1,
   "nav_menu": {},
   "number_sections": true,
   "sideBar": true,
   "skip_h1_title": false,
   "title_cell": "Table of Contents",
   "title_sidebar": "Contents",
   "toc_cell": false,
   "toc_position": {},
   "toc_section_display": true,
   "toc_window_display": false
  }
 },
 "nbformat": 4,
 "nbformat_minor": 2
}
